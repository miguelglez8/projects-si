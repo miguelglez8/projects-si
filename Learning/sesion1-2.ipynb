{
 "cells": [
  {
   "cell_type": "code",
   "execution_count": 119,
   "id": "86798cc4",
   "metadata": {},
   "outputs": [],
   "source": [
    "# Ejercicios de ML\n",
    "import numpy as np"
   ]
  },
  {
   "cell_type": "code",
   "execution_count": 120,
   "id": "1b7a56b8",
   "metadata": {},
   "outputs": [
    {
     "data": {
      "text/plain": [
       "array([ 3,  9,  6, 10])"
      ]
     },
     "execution_count": 120,
     "metadata": {},
     "output_type": "execute_result"
    }
   ],
   "source": [
    "a = np.array([1,3,5,8])\n",
    "b = np.array([2,6,1,2])\n",
    "a + b"
   ]
  },
  {
   "cell_type": "code",
   "execution_count": 121,
   "id": "2dfe5ec0",
   "metadata": {},
   "outputs": [
    {
     "data": {
      "text/plain": [
       "17"
      ]
     },
     "execution_count": 121,
     "metadata": {},
     "output_type": "execute_result"
    }
   ],
   "source": [
    "np.sum(a)"
   ]
  },
  {
   "cell_type": "code",
   "execution_count": 122,
   "id": "a2a30fc0",
   "metadata": {},
   "outputs": [],
   "source": [
    "import pandas as pd\n",
    "\n",
    "df = pd.read_csv('datos01_train.csv')\n",
    "\n",
    "# Separar las variables (X) de las etiquetas (y)\n",
    "X = df[['Variable1', 'Variable2']]\n",
    "y = df['Clase']"
   ]
  },
  {
   "cell_type": "code",
   "execution_count": 123,
   "id": "05131c81",
   "metadata": {},
   "outputs": [
    {
     "data": {
      "text/html": [
       "<div>\n",
       "<style scoped>\n",
       "    .dataframe tbody tr th:only-of-type {\n",
       "        vertical-align: middle;\n",
       "    }\n",
       "\n",
       "    .dataframe tbody tr th {\n",
       "        vertical-align: top;\n",
       "    }\n",
       "\n",
       "    .dataframe thead th {\n",
       "        text-align: right;\n",
       "    }\n",
       "</style>\n",
       "<table border=\"1\" class=\"dataframe\">\n",
       "  <thead>\n",
       "    <tr style=\"text-align: right;\">\n",
       "      <th></th>\n",
       "      <th>Variable1</th>\n",
       "      <th>Variable2</th>\n",
       "      <th>Clase</th>\n",
       "    </tr>\n",
       "  </thead>\n",
       "  <tbody>\n",
       "    <tr>\n",
       "      <th>0</th>\n",
       "      <td>0.967030</td>\n",
       "      <td>0.547232</td>\n",
       "      <td>1.0</td>\n",
       "    </tr>\n",
       "    <tr>\n",
       "      <th>1</th>\n",
       "      <td>0.972684</td>\n",
       "      <td>0.714816</td>\n",
       "      <td>1.0</td>\n",
       "    </tr>\n",
       "    <tr>\n",
       "      <th>2</th>\n",
       "      <td>0.697729</td>\n",
       "      <td>0.216089</td>\n",
       "      <td>0.0</td>\n",
       "    </tr>\n",
       "    <tr>\n",
       "      <th>3</th>\n",
       "      <td>0.976274</td>\n",
       "      <td>0.006230</td>\n",
       "      <td>0.0</td>\n",
       "    </tr>\n",
       "    <tr>\n",
       "      <th>4</th>\n",
       "      <td>0.252982</td>\n",
       "      <td>0.434792</td>\n",
       "      <td>0.0</td>\n",
       "    </tr>\n",
       "    <tr>\n",
       "      <th>5</th>\n",
       "      <td>0.779383</td>\n",
       "      <td>0.197685</td>\n",
       "      <td>0.0</td>\n",
       "    </tr>\n",
       "    <tr>\n",
       "      <th>6</th>\n",
       "      <td>0.862993</td>\n",
       "      <td>0.983401</td>\n",
       "      <td>1.0</td>\n",
       "    </tr>\n",
       "    <tr>\n",
       "      <th>7</th>\n",
       "      <td>0.163842</td>\n",
       "      <td>0.597334</td>\n",
       "      <td>0.0</td>\n",
       "    </tr>\n",
       "    <tr>\n",
       "      <th>8</th>\n",
       "      <td>0.008986</td>\n",
       "      <td>0.386571</td>\n",
       "      <td>0.0</td>\n",
       "    </tr>\n",
       "    <tr>\n",
       "      <th>9</th>\n",
       "      <td>0.044160</td>\n",
       "      <td>0.956653</td>\n",
       "      <td>1.0</td>\n",
       "    </tr>\n",
       "    <tr>\n",
       "      <th>10</th>\n",
       "      <td>0.436147</td>\n",
       "      <td>0.948977</td>\n",
       "      <td>1.0</td>\n",
       "    </tr>\n",
       "    <tr>\n",
       "      <th>11</th>\n",
       "      <td>0.786306</td>\n",
       "      <td>0.866289</td>\n",
       "      <td>1.0</td>\n",
       "    </tr>\n",
       "    <tr>\n",
       "      <th>12</th>\n",
       "      <td>0.173165</td>\n",
       "      <td>0.074949</td>\n",
       "      <td>0.0</td>\n",
       "    </tr>\n",
       "    <tr>\n",
       "      <th>13</th>\n",
       "      <td>0.600743</td>\n",
       "      <td>0.167972</td>\n",
       "      <td>0.0</td>\n",
       "    </tr>\n",
       "    <tr>\n",
       "      <th>14</th>\n",
       "      <td>0.733380</td>\n",
       "      <td>0.408444</td>\n",
       "      <td>1.0</td>\n",
       "    </tr>\n",
       "    <tr>\n",
       "      <th>15</th>\n",
       "      <td>0.527909</td>\n",
       "      <td>0.937572</td>\n",
       "      <td>1.0</td>\n",
       "    </tr>\n",
       "    <tr>\n",
       "      <th>16</th>\n",
       "      <td>0.521696</td>\n",
       "      <td>0.108193</td>\n",
       "      <td>0.0</td>\n",
       "    </tr>\n",
       "    <tr>\n",
       "      <th>17</th>\n",
       "      <td>0.158223</td>\n",
       "      <td>0.545203</td>\n",
       "      <td>0.0</td>\n",
       "    </tr>\n",
       "    <tr>\n",
       "      <th>18</th>\n",
       "      <td>0.524404</td>\n",
       "      <td>0.637610</td>\n",
       "      <td>1.0</td>\n",
       "    </tr>\n",
       "    <tr>\n",
       "      <th>19</th>\n",
       "      <td>0.401495</td>\n",
       "      <td>0.649805</td>\n",
       "      <td>1.0</td>\n",
       "    </tr>\n",
       "  </tbody>\n",
       "</table>\n",
       "</div>"
      ],
      "text/plain": [
       "    Variable1  Variable2  Clase\n",
       "0    0.967030   0.547232    1.0\n",
       "1    0.972684   0.714816    1.0\n",
       "2    0.697729   0.216089    0.0\n",
       "3    0.976274   0.006230    0.0\n",
       "4    0.252982   0.434792    0.0\n",
       "5    0.779383   0.197685    0.0\n",
       "6    0.862993   0.983401    1.0\n",
       "7    0.163842   0.597334    0.0\n",
       "8    0.008986   0.386571    0.0\n",
       "9    0.044160   0.956653    1.0\n",
       "10   0.436147   0.948977    1.0\n",
       "11   0.786306   0.866289    1.0\n",
       "12   0.173165   0.074949    0.0\n",
       "13   0.600743   0.167972    0.0\n",
       "14   0.733380   0.408444    1.0\n",
       "15   0.527909   0.937572    1.0\n",
       "16   0.521696   0.108193    0.0\n",
       "17   0.158223   0.545203    0.0\n",
       "18   0.524404   0.637610    1.0\n",
       "19   0.401495   0.649805    1.0"
      ]
     },
     "execution_count": 123,
     "metadata": {},
     "output_type": "execute_result"
    }
   ],
   "source": [
    "df"
   ]
  },
  {
   "cell_type": "code",
   "execution_count": 124,
   "id": "a8c026d7",
   "metadata": {},
   "outputs": [
    {
     "name": "stdout",
     "output_type": "stream",
     "text": [
      "Defaulting to user installation because normal site-packages is not writeable\n",
      "Requirement already satisfied: matplotlib in ./.local/lib/python3.9/site-packages (3.8.1)\n",
      "Requirement already satisfied: pillow>=8 in ./.local/lib/python3.9/site-packages (from matplotlib) (10.1.0)\n",
      "Requirement already satisfied: numpy<2,>=1.21 in /opt/tljh/user/lib/python3.9/site-packages (from matplotlib) (1.26.1)\n",
      "Requirement already satisfied: kiwisolver>=1.3.1 in ./.local/lib/python3.9/site-packages (from matplotlib) (1.4.5)\n",
      "Requirement already satisfied: cycler>=0.10 in ./.local/lib/python3.9/site-packages (from matplotlib) (0.12.1)\n",
      "Requirement already satisfied: fonttools>=4.22.0 in ./.local/lib/python3.9/site-packages (from matplotlib) (4.44.1)\n",
      "Requirement already satisfied: importlib-resources>=3.2.0 in ./.local/lib/python3.9/site-packages (from matplotlib) (6.1.1)\n",
      "Requirement already satisfied: contourpy>=1.0.1 in ./.local/lib/python3.9/site-packages (from matplotlib) (1.2.0)\n",
      "Requirement already satisfied: packaging>=20.0 in /opt/tljh/user/lib/python3.9/site-packages (from matplotlib) (23.1)\n",
      "Requirement already satisfied: python-dateutil>=2.7 in /opt/tljh/user/lib/python3.9/site-packages (from matplotlib) (2.8.2)\n",
      "Requirement already satisfied: pyparsing>=2.3.1 in ./.local/lib/python3.9/site-packages (from matplotlib) (3.1.1)\n",
      "Requirement already satisfied: zipp>=3.1.0 in /opt/tljh/user/lib/python3.9/site-packages (from importlib-resources>=3.2.0->matplotlib) (3.15.0)\n",
      "Requirement already satisfied: six>=1.5 in /opt/tljh/user/lib/python3.9/site-packages (from python-dateutil>=2.7->matplotlib) (1.16.0)\n"
     ]
    }
   ],
   "source": [
    "!pip install matplotlib"
   ]
  },
  {
   "cell_type": "code",
   "execution_count": 125,
   "id": "74826fb1",
   "metadata": {},
   "outputs": [],
   "source": [
    "import matplotlib.pyplot as plt\n",
    "\n",
    "plt.figure(figsize=(5, 5)) # crear una figura\n",
    "plt.scatter(df['Variable1'], # eje x\n",
    "            df['Variable2'], # eje y\n",
    "            c=df['Clase'], # utilizamos las clases para colorear\n",
    "            s=100) # aumentar tamaño por defecto)\n",
    "plt.title('datos01_train', family='monospace') # título\n",
    "plt.xlabel('Variable1') # eje x\n",
    "plt.ylabel('Variable2') # eje y\n",
    "plt.show()"
   ]
  },
  {
   "cell_type": "code",
   "execution_count": 126,
   "id": "6d7eb4ef",
   "metadata": {},
   "outputs": [],
   "source": [
    "import numpy as np\n",
    "\n",
    "def distancia_euclidea(x, y):\n",
    "    return np.sqrt(np.sum((x - y)**2))"
   ]
  },
  {
   "cell_type": "code",
   "execution_count": 127,
   "id": "623e058a",
   "metadata": {},
   "outputs": [],
   "source": [
    "# Dos puntos de ejemplo\n",
    "punto_a = np.array([0.4, 0.5, 0.1, 0.3, 0.5])\n",
    "punto_b = np.array([0.8, 0.7, 0.2, 0.8, 0.2])\n",
    "print(\"La distancia Euclídea entre A y B es\", distancia_euclidea(punto_a, punto_b))"
   ]
  },
  {
   "cell_type": "code",
   "execution_count": 128,
   "id": "fc84d5af",
   "metadata": {},
   "outputs": [],
   "source": [
    "# Dos puntos de ejemplo\n",
    "punto_a = np.array([0.4, 0.5])\n",
    "punto_b = np.array([0.8, 0.7])\n",
    "print(\"La distancia Euclídea entre A y B es\", distancia_euclidea(punto_a, punto_b))"
   ]
  },
  {
   "cell_type": "code",
   "execution_count": 129,
   "id": "d1b4c7ff",
   "metadata": {},
   "outputs": [],
   "source": [
    "def visualizar_distancia(punto_a, punto_b, ver_radio = False):\n",
    "    \n",
    "    # Pintar los dos puntos\n",
    "    plt.scatter(*punto_a, c='red', marker='o', label='A')\n",
    "    plt.scatter(*punto_b, c='blue', marker='o', label='B')\n",
    "\n",
    "    # Dibujar una línea entre los puntos\n",
    "    plt.plot([punto_a[0], punto_b[0]], [punto_a[1], punto_b[1]], linestyle='--', color='gray')\n",
    "\n",
    "    # Calcular la distancia euclídea\n",
    "    distance = distancia_euclidea(punto_a, punto_b)\n",
    "\n",
    "    # Calcular el ángulo de rotación de la línea para escribir el texto\n",
    "    angle = np.arctan2((punto_b[1] - punto_a[1]), (punto_b[0] - punto_a[0])) * (180 / np.pi) \n",
    "\n",
    "    # Calcular el centro de la línea para escribir el texto\n",
    "    midpoint = [(punto_a[0] + punto_b[0]) / 2, (punto_a[1] + punto_b[1]) / 2] \n",
    "\n",
    "    # Escribir la distancia entre los dos puntos\n",
    "    plt.text(midpoint[0], midpoint[1], f'Distancia: {distance:.2f}', ha='center', va='bottom', rotation=angle)\n",
    "\n",
    "    if ver_radio:\n",
    "\n",
    "        # Añadir círculos con la distancia euclídea\n",
    "        circle = plt.Circle(punto_a, # centro\n",
    "                            distance, # radio\n",
    "                            fill=False, linestyle='dotted', edgecolor='red')\n",
    "        plt.gca().add_patch(circle)\n",
    "        circle = plt.Circle(punto_b, # centro\n",
    "                            distance, # radio\n",
    "                            fill=False, linestyle='dotted', edgecolor='blue')\n",
    "        plt.gca().add_patch(circle)\n",
    "\n",
    "    plt.title('Distancia euclídea')\n",
    "    plt.xlabel('Variable1')\n",
    "    plt.ylabel('Variable2')\n",
    "    \n",
    "    plt.xlim(0,1) # rango eje x\n",
    "    plt.ylim(0,1) # rango eje y\n",
    "    \n",
    "    # Hacer los ejes en la misma magnitud\n",
    "    plt.gca().set_aspect('equal', adjustable='box')\n",
    "    \n",
    "    # Sacar la leyenda de la caja principal\n",
    "    plt.legend(bbox_to_anchor=(1.05, 1), loc='upper left')\n",
    "\n",
    "    plt.show()\n",
    "\n",
    "visualizar_distancia(punto_a, punto_b)\n",
    "visualizar_distancia(punto_a, punto_b, ver_radio = True)"
   ]
  },
  {
   "cell_type": "code",
   "execution_count": 130,
   "id": "f8a3df26",
   "metadata": {},
   "outputs": [],
   "source": [
    "def visualizar_vecinos(X_train, y_train, dato_nuevo, indices_vecinos, clase):\n",
    "\n",
    "    # Mostrar conjunto de entrenamiento\n",
    "    plt.scatter(X_train[:, 0], \n",
    "                X_train[:, 1],\n",
    "                c=y_train, \n",
    "                edgecolors='k', marker='o', s=100, label='Training')\n",
    "\n",
    "    # Resaltar los vecinos más cercanos del punto\n",
    "    plt.scatter(X_train[indices_vecinos, 0], \n",
    "                X_train[indices_vecinos, 1], \n",
    "                facecolors='none', \n",
    "                edgecolors='red', # rodear en rojo\n",
    "                linewidths=2, \n",
    "                s=100, \n",
    "                label='Vecinos más cercanos')\n",
    "\n",
    "    # Mostrar el nuevo dato que queremos clasficar\n",
    "    plt.scatter(dato_nuevo[0], \n",
    "                dato_nuevo[1], \n",
    "                c=clase, \n",
    "                vmin=0, vmax=1,\n",
    "                marker='x', s=200, label='Test Point')\n",
    "\n",
    "    plt.title('Vecinos más cercanos de {}'.format(np.round(dato_nuevo, 2)))\n",
    "    plt.xlabel('Variable1')\n",
    "    plt.ylabel('Variable2')\n",
    "    \n",
    "    plt.gca().set_aspect('equal', adjustable='box')\n",
    "\n",
    "    plt.show()"
   ]
  },
  {
   "cell_type": "code",
   "execution_count": 131,
   "id": "46159ad6",
   "metadata": {},
   "outputs": [],
   "source": [
    "# Counter proporciona un diccionario donde cada elemento distinto se almacena \n",
    "# como claves con un valor asociado igual a su cuenta\n",
    "from collections import Counter\n",
    "\n",
    "# Recibe un conjunto de datos de entrenamiento junto con sus etiquetas reales, el nuevo dato que queremos clasificar y el número de vecinos que seleccionamos para hacerlo\n",
    "def clasificar_dato_usando_knn(X_train, y_train, dato_nuevo, k=3):\n",
    "\n",
    "    # Obtener todas las distancias\n",
    "    distances = [distancia_euclidea(dato_nuevo, x_train) for x_train in X_train]\n",
    "\n",
    "    # Seleccionar los objetos k más cercanos\n",
    "    k_indices = np.argsort(distances)[:k]\n",
    "\n",
    "    # Asignar las etiquetas\n",
    "    k_nearest_labels = [y_train[i] for i in k_indices]\n",
    "\n",
    "    # Seleccionar la clase a la que se asigna, \n",
    "    # que es la etiqueta más común entre los vecinos más cercanos\n",
    "    most_common = Counter(k_nearest_labels).most_common(1)\n",
    "\n",
    "    # Visualizar la iteración\n",
    "    visualizar_vecinos(X_train, y_train, dato_nuevo, k_indices, most_common[0][0])\n",
    "\n",
    "    # Devolver la clase\n",
    "    return most_common[0][0]\n",
    "\n",
    "# Realizamos la clasificación para todos los datos del conjunto de test\n",
    "def aplicar_kNN_datos_nuevos(X_test, X_train, y_train, k=3):\n",
    "    \n",
    "    # Crear un array inicialmente vacío para almacenar las classes en cada iteración\n",
    "    predicted_labels = np.empty(X_test.shape[0], dtype=int)\n",
    "\n",
    "    # Clasficar cada punto del conjunto de test\n",
    "    for i, x_test in enumerate(X_test):\n",
    "        predicted_labels[i] = clasificar_dato_usando_knn(X_train, y_train, x_test, k)\n",
    "\n",
    "    # Almacenar para cada objeto la clase que se le ha asignado\n",
    "    df = pd.DataFrame(X_test)\n",
    "    df['pred_class'] = predicted_labels\n",
    "\n",
    "    return df"
   ]
  },
  {
   "cell_type": "code",
   "execution_count": 132,
   "id": "f1a66fad",
   "metadata": {},
   "outputs": [],
   "source": [
    "# Cargar el conjunto de datos nuevos\n",
    "df_test = pd.read_csv('datos01_test.csv')\n",
    "\n",
    "# Separar las variables (X) de las etiquetas (y)\n",
    "X_test = df_test[['Variable1', 'Variable2']]"
   ]
  },
  {
   "cell_type": "code",
   "execution_count": 133,
   "id": "f10b75df",
   "metadata": {},
   "outputs": [],
   "source": [
    "df_test"
   ]
  },
  {
   "cell_type": "code",
   "execution_count": 134,
   "id": "fa9ab873",
   "metadata": {},
   "outputs": [],
   "source": [
    "plt.figure(figsize=(5, 5))\n",
    "\n",
    "# Los datos del conjunto de entrenamiento\n",
    "plt.scatter(df['Variable1'], \n",
    "            df['Variable2'], \n",
    "            c=df['Clase'], \n",
    "            s=100, \n",
    "            label='Training')\n",
    "\n",
    "# Los datos que queremos clasificar\n",
    "plt.scatter(df_test['Variable1'], \n",
    "            df_test['Variable2'], \n",
    "            color='red', \n",
    "            marker='x', # marcar como X en vez de puntos\n",
    "            s=150, \n",
    "            label='Test')\n",
    "\n",
    "plt.title('datos01_train + datos01_test', family='monospace')\n",
    "plt.xlabel('Variable1') \n",
    "plt.ylabel('Variable2') \n",
    "\n",
    "# Incluir leyenda\n",
    "plt.legend(loc='upper left', bbox_to_anchor=(1, 1))\n",
    "\n",
    "plt.show()"
   ]
  },
  {
   "cell_type": "code",
   "execution_count": 135,
   "id": "82ca77fc",
   "metadata": {},
   "outputs": [],
   "source": [
    "resultados_k3 = aplicar_kNN_datos_nuevos(X_test.values, X.values, y.values)\n",
    "resultados_k3"
   ]
  },
  {
   "cell_type": "code",
   "execution_count": 136,
   "id": "72927864",
   "metadata": {},
   "outputs": [],
   "source": [
    "!pip install scikit-learn"
   ]
  },
  {
   "cell_type": "code",
   "execution_count": 137,
   "id": "30ebbf0a",
   "metadata": {},
   "outputs": [],
   "source": [
    "import sklearn"
   ]
  },
  {
   "cell_type": "code",
   "execution_count": 138,
   "id": "a43e8347",
   "metadata": {},
   "outputs": [],
   "source": [
    "from sklearn.neighbors import KNeighborsClassifier\n",
    "\n",
    "# Instanciar un objeto modelo\n",
    "modelo = KNeighborsClassifier(n_neighbors=3)\n",
    "# Ajustar el modelo\n",
    "modelo.fit(X, y)"
   ]
  },
  {
   "cell_type": "code",
   "execution_count": 139,
   "id": "f1584479",
   "metadata": {},
   "outputs": [],
   "source": [
    "# Clasificar los objetos nuevos\n",
    "modelo.predict(X_test)"
   ]
  },
  {
   "cell_type": "code",
   "execution_count": 23,
   "id": "fb01360d",
   "metadata": {},
   "outputs": [
    {
     "data": {
      "text/plain": [
       "array([[0.66666667, 0.33333333],\n",
       "       [1.        , 0.        ],\n",
       "       [0.66666667, 0.33333333],\n",
       "       [0.33333333, 0.66666667],\n",
       "       [0.66666667, 0.33333333]])"
      ]
     },
     "execution_count": 23,
     "metadata": {},
     "output_type": "execute_result"
    }
   ],
   "source": [
    "# Obtener las probabilidades de la clasificación\n",
    "modelo.predict_proba(X_test)"
   ]
  },
  {
   "cell_type": "code",
   "execution_count": 24,
   "id": "93a868fb",
   "metadata": {},
   "outputs": [
    {
     "data": {
      "text/plain": [
       "pandas.core.frame.DataFrame"
      ]
     },
     "execution_count": 24,
     "metadata": {},
     "output_type": "execute_result"
    }
   ],
   "source": [
    "type(X_test)"
   ]
  },
  {
   "cell_type": "code",
   "execution_count": 25,
   "id": "b28fae67",
   "metadata": {},
   "outputs": [
    {
     "data": {
      "text/html": [
       "<div>\n",
       "<style scoped>\n",
       "    .dataframe tbody tr th:only-of-type {\n",
       "        vertical-align: middle;\n",
       "    }\n",
       "\n",
       "    .dataframe tbody tr th {\n",
       "        vertical-align: top;\n",
       "    }\n",
       "\n",
       "    .dataframe thead th {\n",
       "        text-align: right;\n",
       "    }\n",
       "</style>\n",
       "<table border=\"1\" class=\"dataframe\">\n",
       "  <thead>\n",
       "    <tr style=\"text-align: right;\">\n",
       "      <th></th>\n",
       "      <th>Variable1</th>\n",
       "      <th>Variable2</th>\n",
       "    </tr>\n",
       "  </thead>\n",
       "  <tbody>\n",
       "    <tr>\n",
       "      <th>0</th>\n",
       "      <td>0.017490</td>\n",
       "      <td>0.891573</td>\n",
       "    </tr>\n",
       "    <tr>\n",
       "      <th>1</th>\n",
       "      <td>0.284861</td>\n",
       "      <td>0.298976</td>\n",
       "    </tr>\n",
       "    <tr>\n",
       "      <th>2</th>\n",
       "      <td>0.792034</td>\n",
       "      <td>0.324471</td>\n",
       "    </tr>\n",
       "    <tr>\n",
       "      <th>3</th>\n",
       "      <td>0.864710</td>\n",
       "      <td>0.447513</td>\n",
       "    </tr>\n",
       "    <tr>\n",
       "      <th>4</th>\n",
       "      <td>0.548230</td>\n",
       "      <td>0.357172</td>\n",
       "    </tr>\n",
       "  </tbody>\n",
       "</table>\n",
       "</div>"
      ],
      "text/plain": [
       "   Variable1  Variable2\n",
       "0   0.017490   0.891573\n",
       "1   0.284861   0.298976\n",
       "2   0.792034   0.324471\n",
       "3   0.864710   0.447513\n",
       "4   0.548230   0.357172"
      ]
     },
     "execution_count": 25,
     "metadata": {},
     "output_type": "execute_result"
    }
   ],
   "source": [
    "X_test"
   ]
  },
  {
   "cell_type": "code",
   "execution_count": 26,
   "id": "65ada3b2",
   "metadata": {},
   "outputs": [
    {
     "data": {
      "text/plain": [
       "0    0\n",
       "1    0\n",
       "2    0\n",
       "3    1\n",
       "4    0\n",
       "Name: pred_class, dtype: int64"
      ]
     },
     "execution_count": 26,
     "metadata": {},
     "output_type": "execute_result"
    }
   ],
   "source": [
    "resultados_k3['pred_class']"
   ]
  },
  {
   "cell_type": "code",
   "execution_count": 27,
   "id": "36166ee6",
   "metadata": {},
   "outputs": [
    {
     "name": "stdout",
     "output_type": "stream",
     "text": [
      "<class 'sklearn.neighbors._classification.KNeighborsClassifier'>\n"
     ]
    }
   ],
   "source": [
    "print(type(modelo))"
   ]
  },
  {
   "cell_type": "code",
   "execution_count": 28,
   "id": "61410723",
   "metadata": {},
   "outputs": [
    {
     "ename": "NotFittedError",
     "evalue": "This KNeighborsClassifier instance is not fitted yet. Call 'fit' with appropriate arguments before using this estimator.",
     "output_type": "error",
     "traceback": [
      "\u001b[0;31m---------------------------------------------------------------------------\u001b[0m",
      "\u001b[0;31mNotFittedError\u001b[0m                            Traceback (most recent call last)",
      "Cell \u001b[0;32mIn[28], line 2\u001b[0m\n\u001b[1;32m      1\u001b[0m modelo \u001b[38;5;241m=\u001b[39m KNeighborsClassifier() \u001b[38;5;66;03m# creamos el objeto pero no entrenamos\u001b[39;00m\n\u001b[0;32m----> 2\u001b[0m \u001b[43mmodelo\u001b[49m\u001b[38;5;241;43m.\u001b[39;49m\u001b[43mpredict\u001b[49m\u001b[43m(\u001b[49m\u001b[43mX_test\u001b[49m\u001b[43m)\u001b[49m\n",
      "File \u001b[0;32m~/.local/lib/python3.9/site-packages/sklearn/neighbors/_classification.py:249\u001b[0m, in \u001b[0;36mKNeighborsClassifier.predict\u001b[0;34m(self, X)\u001b[0m\n\u001b[1;32m    235\u001b[0m \u001b[38;5;28;01mdef\u001b[39;00m \u001b[38;5;21mpredict\u001b[39m(\u001b[38;5;28mself\u001b[39m, X):\n\u001b[1;32m    236\u001b[0m \u001b[38;5;250m    \u001b[39m\u001b[38;5;124;03m\"\"\"Predict the class labels for the provided data.\u001b[39;00m\n\u001b[1;32m    237\u001b[0m \n\u001b[1;32m    238\u001b[0m \u001b[38;5;124;03m    Parameters\u001b[39;00m\n\u001b[0;32m   (...)\u001b[0m\n\u001b[1;32m    247\u001b[0m \u001b[38;5;124;03m        Class labels for each data sample.\u001b[39;00m\n\u001b[1;32m    248\u001b[0m \u001b[38;5;124;03m    \"\"\"\u001b[39;00m\n\u001b[0;32m--> 249\u001b[0m     \u001b[43mcheck_is_fitted\u001b[49m\u001b[43m(\u001b[49m\u001b[38;5;28;43mself\u001b[39;49m\u001b[43m,\u001b[49m\u001b[43m \u001b[49m\u001b[38;5;124;43m\"\u001b[39;49m\u001b[38;5;124;43m_fit_method\u001b[39;49m\u001b[38;5;124;43m\"\u001b[39;49m\u001b[43m)\u001b[49m\n\u001b[1;32m    250\u001b[0m     \u001b[38;5;28;01mif\u001b[39;00m \u001b[38;5;28mself\u001b[39m\u001b[38;5;241m.\u001b[39mweights \u001b[38;5;241m==\u001b[39m \u001b[38;5;124m\"\u001b[39m\u001b[38;5;124muniform\u001b[39m\u001b[38;5;124m\"\u001b[39m:\n\u001b[1;32m    251\u001b[0m         \u001b[38;5;28;01mif\u001b[39;00m \u001b[38;5;28mself\u001b[39m\u001b[38;5;241m.\u001b[39m_fit_method \u001b[38;5;241m==\u001b[39m \u001b[38;5;124m\"\u001b[39m\u001b[38;5;124mbrute\u001b[39m\u001b[38;5;124m\"\u001b[39m \u001b[38;5;129;01mand\u001b[39;00m ArgKminClassMode\u001b[38;5;241m.\u001b[39mis_usable_for(\n\u001b[1;32m    252\u001b[0m             X, \u001b[38;5;28mself\u001b[39m\u001b[38;5;241m.\u001b[39m_fit_X, \u001b[38;5;28mself\u001b[39m\u001b[38;5;241m.\u001b[39mmetric\n\u001b[1;32m    253\u001b[0m         ):\n",
      "File \u001b[0;32m~/.local/lib/python3.9/site-packages/sklearn/utils/validation.py:1461\u001b[0m, in \u001b[0;36mcheck_is_fitted\u001b[0;34m(estimator, attributes, msg, all_or_any)\u001b[0m\n\u001b[1;32m   1458\u001b[0m     \u001b[38;5;28;01mraise\u001b[39;00m \u001b[38;5;167;01mTypeError\u001b[39;00m(\u001b[38;5;124m\"\u001b[39m\u001b[38;5;132;01m%s\u001b[39;00m\u001b[38;5;124m is not an estimator instance.\u001b[39m\u001b[38;5;124m\"\u001b[39m \u001b[38;5;241m%\u001b[39m (estimator))\n\u001b[1;32m   1460\u001b[0m \u001b[38;5;28;01mif\u001b[39;00m \u001b[38;5;129;01mnot\u001b[39;00m _is_fitted(estimator, attributes, all_or_any):\n\u001b[0;32m-> 1461\u001b[0m     \u001b[38;5;28;01mraise\u001b[39;00m NotFittedError(msg \u001b[38;5;241m%\u001b[39m {\u001b[38;5;124m\"\u001b[39m\u001b[38;5;124mname\u001b[39m\u001b[38;5;124m\"\u001b[39m: \u001b[38;5;28mtype\u001b[39m(estimator)\u001b[38;5;241m.\u001b[39m\u001b[38;5;18m__name__\u001b[39m})\n",
      "\u001b[0;31mNotFittedError\u001b[0m: This KNeighborsClassifier instance is not fitted yet. Call 'fit' with appropriate arguments before using this estimator."
     ]
    }
   ],
   "source": [
    "modelo = KNeighborsClassifier() # creamos el objeto pero no entrenamos\n",
    "modelo.predict(X_test)"
   ]
  },
  {
   "cell_type": "code",
   "execution_count": null,
   "id": "cf120a98",
   "metadata": {},
   "outputs": [],
   "source": [
    "# Instanciar un objeto modelo\n",
    "modelo = KNeighborsClassifier(n_neighbors=3)\n",
    "# Ajustar el modelo\n",
    "modelo.fit(X, y)\n",
    "# Ver los parámetros con los que lo hemos entrenado\n",
    "modelo.get_params()"
   ]
  },
  {
   "cell_type": "code",
   "execution_count": null,
   "id": "1f4d16cb",
   "metadata": {},
   "outputs": [],
   "source": [
    "y_test = pd.read_csv('datos01_test_etiquetas.csv')\n",
    "y_test = y_test.values.ravel()\n",
    "y_test"
   ]
  },
  {
   "cell_type": "code",
   "execution_count": null,
   "id": "264979f3",
   "metadata": {},
   "outputs": [],
   "source": [
    "# Pronosticar las etiquetas\n",
    "y_pred = modelo.predict(X_test)\n",
    "y_pred"
   ]
  },
  {
   "cell_type": "code",
   "execution_count": null,
   "id": "d4b353c0",
   "metadata": {},
   "outputs": [],
   "source": [
    "# Crear la figura con dos subplots\n",
    "fig, axes = plt.subplots(1, 2, figsize=(6, 3))\n",
    "\n",
    "# Subplot para ver las clases reales\n",
    "axes[0].scatter(df_test['Variable1'], \n",
    "                df_test['Variable2'], \n",
    "                c=y_test, \n",
    "                s=100)\n",
    "axes[0].set_title('Reales')\n",
    "\n",
    "# Subplot para ver las clases pronosticadas\n",
    "# borde vacío de los puntos inicialmente\n",
    "ec = np.array(['none'] * len(df_test)) \n",
    "# si es fallo poner borde rojo\n",
    "ec[y_test != y_pred] = 'r' \n",
    "# Ver las predicciones\n",
    "axes[1].scatter(df_test['Variable1'], \n",
    "                df_test['Variable2'], \n",
    "                c=y_pred, \n",
    "                s=100, \n",
    "                edgecolors=ec)\n",
    "axes[1].set_title('Predicciones')\n",
    "\n",
    "plt.tight_layout()\n",
    "plt.show()"
   ]
  },
  {
   "cell_type": "code",
   "execution_count": null,
   "id": "6a3c0d7b",
   "metadata": {},
   "outputs": [],
   "source": [
    "from sklearn.metrics import accuracy_score, confusion_matrix\n",
    "\n",
    "# Evaluar el modelo\n",
    "accuracy = accuracy_score(y_test, y_pred)\n",
    "conf_matrix = confusion_matrix(y_test, y_pred)\n",
    "\n",
    "print(f'Accuracy: {accuracy:.2f}')\n",
    "print('Matriz de confusión:\\n', conf_matrix)"
   ]
  },
  {
   "cell_type": "code",
   "execution_count": null,
   "id": "68377827",
   "metadata": {},
   "outputs": [],
   "source": [
    "# EJERCICIO: Entrena un modelo utilizando el conjunto de datos disponible en datos02_train.csv con k=3\n",
    "# Visualiza los resultados y calcula el valor de la accuracy usando los datos almacenados en datos02_test.csv \n",
    "# y sus correspondientes etiquetas en datos02_test_etiquetas.csv. Después entrena otro modelo modificando la \n",
    "# métrica con la que se realiza el cómputo de la distancia. Prueba con la distancia Manhattan y analiza si has \n",
    "# obtenido los mismos resultados. Puedes consultar los parámetros neceesarios para cambiar la forma de medir la \n",
    "# similitud en la documentación.\n",
    "df2 = pd.read_csv('datos02_train.csv')\n",
    "\n",
    "# Separar las variables (X) de las etiquetas (y)\n",
    "X2 = df2[['Variable1', 'Variable2']]\n",
    "y2 = df2['Clase']\n",
    "\n",
    "# Cargar el conjunto de datos nuevos\n",
    "df2_test = pd.read_csv('datos02_test.csv')\n",
    "\n",
    "# Separar las variables (X) de las etiquetas (y)\n",
    "X2_test = df2_test[['Variable1', 'Variable2']]"
   ]
  },
  {
   "cell_type": "code",
   "execution_count": null,
   "id": "457070cc",
   "metadata": {},
   "outputs": [],
   "source": [
    "# Instanciar un objeto modelo\n",
    "modelo = KNeighborsClassifier(n_neighbors=3)\n",
    "# Ajustar el modelo\n",
    "modelo.fit(X2, y2)\n",
    "# Clasificar los objetos nuevos\n",
    "modelo.predict(X2_test)"
   ]
  },
  {
   "cell_type": "code",
   "execution_count": null,
   "id": "8ee569b3",
   "metadata": {},
   "outputs": [],
   "source": [
    "# Obtener las probabilidades de la clasificación\n",
    "modelo.predict_proba(X2_test)"
   ]
  },
  {
   "cell_type": "code",
   "execution_count": null,
   "id": "a1623a0b",
   "metadata": {},
   "outputs": [],
   "source": [
    "y2_test = pd.read_csv('datos02_test_etiquetas.csv')\n",
    "y2_test = y2_test.values.ravel()\n",
    "\n",
    "# Transformar las etiquetas a números\n",
    "from sklearn.preprocessing import LabelEncoder\n",
    "\n",
    "le = LabelEncoder()\n",
    "y2_test = le.fit_transform(y2_test)\n",
    "\n",
    "y2_test"
   ]
  },
  {
   "cell_type": "code",
   "execution_count": null,
   "id": "3b6baebe",
   "metadata": {},
   "outputs": [],
   "source": [
    "# Pronosticar las etiquetas\n",
    "y2_pred = modelo.predict(X2_test)\n",
    "y2_pred"
   ]
  },
  {
   "cell_type": "code",
   "execution_count": null,
   "id": "e51b01de",
   "metadata": {},
   "outputs": [],
   "source": [
    "# Crear la figura con dos subplots\n",
    "fig, axes = plt.subplots(1, 2, figsize=(6, 3))\n",
    "\n",
    "# Subplot para ver las clases reales\n",
    "axes[0].scatter(df2_test['Variable1'], \n",
    "                df2_test['Variable2'], \n",
    "                c=y2_test, \n",
    "                s=100)\n",
    "axes[0].set_title('Reales')\n",
    "\n",
    "# Subplot para ver las clases pronosticadas\n",
    "# borde vacío de los puntos inicialmente\n",
    "ec = np.array(['none'] * len(df2_test)) \n",
    "# si es fallo poner borde rojo\n",
    "ec[y2_test != y2_pred] = 'r' \n",
    "# Ver las predicciones\n",
    "axes[1].scatter(df2_test['Variable1'], \n",
    "                df2_test['Variable2'], \n",
    "                c=y2_pred, \n",
    "                s=100, \n",
    "                edgecolors=ec)\n",
    "axes[1].set_title('Predicciones')\n",
    "\n",
    "plt.tight_layout()\n",
    "plt.show()"
   ]
  },
  {
   "cell_type": "code",
   "execution_count": null,
   "id": "202047f1",
   "metadata": {},
   "outputs": [],
   "source": [
    "# Evaluar el modelo\n",
    "accuracy = accuracy_score(y2_test, y2_pred)\n",
    "conf_matrix = confusion_matrix(y2_test, y2_pred)\n",
    "\n",
    "print(f'Accuracy: {accuracy:.2f}')\n",
    "print('Matriz de confusión:\\n', conf_matrix)"
   ]
  },
  {
   "cell_type": "code",
   "execution_count": null,
   "id": "43c88e7b",
   "metadata": {},
   "outputs": [],
   "source": [
    "df_train = pd.read_csv('datos03_train.csv')"
   ]
  },
  {
   "cell_type": "code",
   "execution_count": null,
   "id": "5bc6e7e6",
   "metadata": {},
   "outputs": [],
   "source": [
    "df_train.info()"
   ]
  },
  {
   "cell_type": "code",
   "execution_count": null,
   "id": "3d84b1a8",
   "metadata": {},
   "outputs": [],
   "source": [
    "df_train.describe()"
   ]
  },
  {
   "cell_type": "code",
   "execution_count": null,
   "id": "b10d3d69",
   "metadata": {
    "scrolled": true
   },
   "outputs": [],
   "source": [
    "!pip install seaborn "
   ]
  },
  {
   "cell_type": "code",
   "execution_count": null,
   "id": "8f91ba6d",
   "metadata": {},
   "outputs": [],
   "source": [
    "import seaborn as sns\n",
    "\n",
    "df_train['Clase'] = pd.Categorical(df_train['Clase'], categories=['c1', 'c2'])\n",
    "sns.pairplot(df_train, # conjunto de datos\n",
    "            hue='Clase', # variable para colorear\n",
    "            height=1, # altura del gráfico\n",
    "            aspect=1, # proporción (cuadrado)\n",
    "            plot_kws={ # argumentos elementos del gráfico\n",
    "                'alpha':0.3, # transparencia\n",
    "                'edgecolor': 'none' # quitar bordes de los puntos\n",
    "            })\n",
    "\n",
    "plt.show()"
   ]
  },
  {
   "cell_type": "code",
   "execution_count": null,
   "id": "111a83f5",
   "metadata": {},
   "outputs": [],
   "source": [
    "X_train = df_train.drop('Clase', axis = 1)\n",
    "y_train = df_train['Clase'].values.ravel()"
   ]
  },
  {
   "cell_type": "code",
   "execution_count": null,
   "id": "49028067",
   "metadata": {},
   "outputs": [],
   "source": [
    "# Entrenar el modelo\n",
    "modelo = KNeighborsClassifier(n_neighbors=3)\n",
    "modelo.fit(X_train, y_train)"
   ]
  },
  {
   "cell_type": "code",
   "execution_count": null,
   "id": "e80fb475",
   "metadata": {},
   "outputs": [],
   "source": [
    "# Cargar los datos para evaluar el modelo\n",
    "df_test = pd.read_csv('datos03_test.csv')\n",
    "X_test = df_test.drop('Clase', axis = 1)\n",
    "y_test = df_test[['Clase']].values.ravel()"
   ]
  },
  {
   "cell_type": "code",
   "execution_count": null,
   "id": "0a6a7154",
   "metadata": {},
   "outputs": [],
   "source": [
    "df_test['Clase'] = pd.Categorical(df_test['Clase'], categories=['c1', 'c2'])\n",
    "sns.pairplot(df_test, hue='Clase', height=1.5, aspect=1, \n",
    "            plot_kws={'alpha':0.3, 'edgecolor': 'none'})\n",
    "plt.show()"
   ]
  },
  {
   "cell_type": "code",
   "execution_count": null,
   "id": "524281d9",
   "metadata": {},
   "outputs": [],
   "source": [
    "from sklearn.metrics import accuracy_score, confusion_matrix\n",
    "\n",
    "y_pred = modelo.predict(X_test)\n",
    "accuracy = accuracy_score(y_test, y_pred)\n",
    "conf_matrix = confusion_matrix(y_test, y_pred)\n",
    "print(f'La accuracy es: {accuracy:.2f}')\n",
    "print('Matriz de confusión:\\n', conf_matrix)"
   ]
  },
  {
   "cell_type": "code",
   "execution_count": null,
   "id": "57f6d04b",
   "metadata": {},
   "outputs": [],
   "source": [
    "def entrenar_y_obtener_accuracy(X_train, y_train, X_test, y_test, k=3):\n",
    "    modelo = KNeighborsClassifier(n_neighbors=k)\n",
    "    modelo.fit(X_train, y_train)\n",
    "    y_pred = modelo.predict(X_test)\n",
    "    accuracy = accuracy_score(y_test, y_pred)\n",
    "    conf_matrix = confusion_matrix(y_test, y_pred)\n",
    "    print(f'La accuracy es: {accuracy:.2f}')\n",
    "    print('Matriz de confusión:\\n', conf_matrix)\n",
    "    return modelo, y_pred"
   ]
  },
  {
   "cell_type": "code",
   "execution_count": null,
   "id": "03e068b6",
   "metadata": {},
   "outputs": [],
   "source": [
    "modelo, y_pred = entrenar_y_obtener_accuracy(X_train, y_train, X_test, y_test)"
   ]
  },
  {
   "cell_type": "code",
   "execution_count": null,
   "id": "2b482250",
   "metadata": {},
   "outputs": [],
   "source": [
    "# Datos de entrenamiento\n",
    "df_train = pd.read_csv('datos04_train.csv')\n",
    "print(df_train.describe())\n",
    "print(df_train.shape)\n",
    "# Datos de evaluación\n",
    "df_test = pd.read_csv('datos04_test.csv')\n",
    "X_test = df_test.drop('Clase', axis = 1)\n",
    "y_test = df_test[['Clase']].to_numpy().ravel()"
   ]
  },
  {
   "cell_type": "code",
   "execution_count": null,
   "id": "3d8457e4",
   "metadata": {},
   "outputs": [],
   "source": [
    "df_train['Clase'] = pd.Categorical(df_train['Clase'], categories=['c1', 'c2'])\n",
    "sns.pairplot(df_train, hue='Clase', height=1.5, aspect=1, \n",
    "            plot_kws={'alpha':0.3, 'edgecolor': 'none'})\n",
    "plt.show()"
   ]
  },
  {
   "cell_type": "code",
   "execution_count": 29,
   "id": "6fb42500",
   "metadata": {},
   "outputs": [
    {
     "ename": "NameError",
     "evalue": "name 'df_train' is not defined",
     "output_type": "error",
     "traceback": [
      "\u001b[0;31m---------------------------------------------------------------------------\u001b[0m",
      "\u001b[0;31mNameError\u001b[0m                                 Traceback (most recent call last)",
      "Cell \u001b[0;32mIn[29], line 2\u001b[0m\n\u001b[1;32m      1\u001b[0m \u001b[38;5;66;03m# Dividir el conjunto de datos en variables (X) y clase (y):\u001b[39;00m\n\u001b[0;32m----> 2\u001b[0m X_train \u001b[38;5;241m=\u001b[39m \u001b[43mdf_train\u001b[49m\u001b[38;5;241m.\u001b[39mdrop(\u001b[38;5;124m'\u001b[39m\u001b[38;5;124mClase\u001b[39m\u001b[38;5;124m'\u001b[39m, axis \u001b[38;5;241m=\u001b[39m \u001b[38;5;241m1\u001b[39m)\n\u001b[1;32m      3\u001b[0m y_train \u001b[38;5;241m=\u001b[39m df_train[[\u001b[38;5;124m'\u001b[39m\u001b[38;5;124mClase\u001b[39m\u001b[38;5;124m'\u001b[39m]]\u001b[38;5;241m.\u001b[39mto_numpy()\u001b[38;5;241m.\u001b[39mravel()\n\u001b[1;32m      4\u001b[0m \u001b[38;5;66;03m# Entrenar el modelo\u001b[39;00m\n",
      "\u001b[0;31mNameError\u001b[0m: name 'df_train' is not defined"
     ]
    }
   ],
   "source": [
    "# Dividir el conjunto de datos en variables (X) y clase (y):\n",
    "X_train = df_train.drop('Clase', axis = 1)\n",
    "y_train = df_train[['Clase']].to_numpy().ravel()\n",
    "# Entrenar el modelo\n",
    "modelo, y_pred = entrenar_y_obtener_accuracy(X_train, y_train, X_test, y_test)"
   ]
  },
  {
   "cell_type": "code",
   "execution_count": 30,
   "id": "48b5056a",
   "metadata": {},
   "outputs": [
    {
     "ename": "NameError",
     "evalue": "name 'sns' is not defined",
     "output_type": "error",
     "traceback": [
      "\u001b[0;31m---------------------------------------------------------------------------\u001b[0m",
      "\u001b[0;31mNameError\u001b[0m                                 Traceback (most recent call last)",
      "Cell \u001b[0;32mIn[30], line 14\u001b[0m\n\u001b[1;32m     11\u001b[0m     df_test[column_name] \u001b[38;5;241m=\u001b[39m np\u001b[38;5;241m.\u001b[39mrandom\u001b[38;5;241m.\u001b[39mrandn(\u001b[38;5;28mlen\u001b[39m(df_test))\n\u001b[1;32m     13\u001b[0m df_train[\u001b[38;5;124m'\u001b[39m\u001b[38;5;124mClase\u001b[39m\u001b[38;5;124m'\u001b[39m] \u001b[38;5;241m=\u001b[39m pd\u001b[38;5;241m.\u001b[39mCategorical(df_train[\u001b[38;5;124m'\u001b[39m\u001b[38;5;124mClase\u001b[39m\u001b[38;5;124m'\u001b[39m], categories\u001b[38;5;241m=\u001b[39m[\u001b[38;5;124m'\u001b[39m\u001b[38;5;124mc1\u001b[39m\u001b[38;5;124m'\u001b[39m, \u001b[38;5;124m'\u001b[39m\u001b[38;5;124mc2\u001b[39m\u001b[38;5;124m'\u001b[39m])\n\u001b[0;32m---> 14\u001b[0m \u001b[43msns\u001b[49m\u001b[38;5;241m.\u001b[39mpairplot(df_train, hue\u001b[38;5;241m=\u001b[39m\u001b[38;5;124m'\u001b[39m\u001b[38;5;124mClase\u001b[39m\u001b[38;5;124m'\u001b[39m, height\u001b[38;5;241m=\u001b[39m\u001b[38;5;241m1.5\u001b[39m, aspect\u001b[38;5;241m=\u001b[39m\u001b[38;5;241m1\u001b[39m, plot_kws\u001b[38;5;241m=\u001b[39m{\u001b[38;5;124m'\u001b[39m\u001b[38;5;124malpha\u001b[39m\u001b[38;5;124m'\u001b[39m:\u001b[38;5;241m0.3\u001b[39m, \u001b[38;5;124m'\u001b[39m\u001b[38;5;124medgecolor\u001b[39m\u001b[38;5;124m'\u001b[39m: \u001b[38;5;124m'\u001b[39m\u001b[38;5;124mnone\u001b[39m\u001b[38;5;124m'\u001b[39m})\n\u001b[1;32m     15\u001b[0m plt\u001b[38;5;241m.\u001b[39mshow()\n",
      "\u001b[0;31mNameError\u001b[0m: name 'sns' is not defined"
     ]
    }
   ],
   "source": [
    "# Usando las variables que ya tenemos definidas\n",
    "df_train = pd.read_csv('datos03_train.csv')\n",
    "df_test = pd.read_csv('datos03_test.csv')\n",
    "\n",
    "np.random.seed(29) # garantizar reproducibilidad\n",
    "\n",
    "# Añadir 5 columnas con datos completamente aleatorios\n",
    "for i in range(1, 6):\n",
    "    column_name = f'new_variable_{i}'\n",
    "    df_train[column_name] = np.random.randn(len(df_train)) \n",
    "    df_test[column_name] = np.random.randn(len(df_test))\n",
    "\n",
    "df_train['Clase'] = pd.Categorical(df_train['Clase'], categories=['c1', 'c2'])\n",
    "sns.pairplot(df_train, hue='Clase', height=1.5, aspect=1, plot_kws={'alpha':0.3, 'edgecolor': 'none'})\n",
    "plt.show()"
   ]
  },
  {
   "cell_type": "code",
   "execution_count": 31,
   "id": "c4ba4d27",
   "metadata": {},
   "outputs": [
    {
     "ename": "NameError",
     "evalue": "name 'entrenar_y_obtener_accuracy' is not defined",
     "output_type": "error",
     "traceback": [
      "\u001b[0;31m---------------------------------------------------------------------------\u001b[0m",
      "\u001b[0;31mNameError\u001b[0m                                 Traceback (most recent call last)",
      "Cell \u001b[0;32mIn[31], line 9\u001b[0m\n\u001b[1;32m      6\u001b[0m X_test \u001b[38;5;241m=\u001b[39m df_test\u001b[38;5;241m.\u001b[39mdrop(\u001b[38;5;124m'\u001b[39m\u001b[38;5;124mClase\u001b[39m\u001b[38;5;124m'\u001b[39m, axis \u001b[38;5;241m=\u001b[39m \u001b[38;5;241m1\u001b[39m)\u001b[38;5;241m.\u001b[39mvalues\n\u001b[1;32m      7\u001b[0m y_test \u001b[38;5;241m=\u001b[39m df_test[[\u001b[38;5;124m'\u001b[39m\u001b[38;5;124mClase\u001b[39m\u001b[38;5;124m'\u001b[39m]]\u001b[38;5;241m.\u001b[39mvalues\n\u001b[0;32m----> 9\u001b[0m modelo, y_pred \u001b[38;5;241m=\u001b[39m \u001b[43mentrenar_y_obtener_accuracy\u001b[49m(X_train, y_train, X_test, y_test)\n",
      "\u001b[0;31mNameError\u001b[0m: name 'entrenar_y_obtener_accuracy' is not defined"
     ]
    }
   ],
   "source": [
    "# Creamos conjunto de training\n",
    "X_train = df_train.drop('Clase', axis = 1).values\n",
    "y_train = df_train[['Clase']].to_numpy().ravel()\n",
    "\n",
    "# Creamos conjunto de test\n",
    "X_test = df_test.drop('Clase', axis = 1).values\n",
    "y_test = df_test[['Clase']].values\n",
    "\n",
    "modelo, y_pred = entrenar_y_obtener_accuracy(X_train, y_train, X_test, y_test)"
   ]
  },
  {
   "cell_type": "code",
   "execution_count": 32,
   "id": "ce8997d4",
   "metadata": {
    "scrolled": true
   },
   "outputs": [
    {
     "data": {
      "image/png": "[encoded data removed]",
      "text/plain": [
       "<Figure size 500x500 with 1 Axes>"
      ]
     },
     "metadata": {},
     "output_type": "display_data"
    }
   ],
   "source": [
    "# Cargar los datos de entrenamiento\n",
    "df_train = pd.read_csv('datos05_train.csv')\n",
    "X_train = df_train[['Variable1', 'Variable2']]\n",
    "y_train = df_train['Clase']\n",
    "\n",
    "# Visualizar el conjunto de datos\n",
    "plt.figure(figsize=(5, 5))\n",
    "plt.scatter(df_train['Variable1'], df_train['Variable2'], c=df_train['Clase'])\n",
    "plt.title('datos05_train', family='monospace')\n",
    "plt.show()"
   ]
  },
  {
   "cell_type": "code",
   "execution_count": 33,
   "id": "05c6e429",
   "metadata": {},
   "outputs": [
    {
     "data": {
      "image/png": "[encoded data removed]",
      "text/plain": [
       "<Figure size 500x500 with 1 Axes>"
      ]
     },
     "metadata": {},
     "output_type": "display_data"
    }
   ],
   "source": [
    "# El nuevo punto que queremos clasificar\n",
    "# Creamos un conjunto de datos de una única fila\n",
    "# También podríamos utilizar un array de numpy pero nos da un warning de que\n",
    "# el modelo se ha entrenado con nombres de columnas y el objeto a pronosticar no tiene\n",
    "new_point = pd.DataFrame([[7, 50]], columns=X_train.columns) \n",
    "\n",
    "plt.figure(figsize=(5, 5))\n",
    "# El conjunto de datos\n",
    "plt.scatter(X_train['Variable1'], \n",
    "            X_train['Variable2'], \n",
    "            c=y_train, label = 'datos05_train')\n",
    "# El nuevo punto\n",
    "plt.scatter(new_point['Variable1'],\n",
    "            new_point['Variable2'], \n",
    "            c='red', marker='X', s=200, label='Nuevo')\n",
    "plt.show()"
   ]
  },
  {
   "cell_type": "code",
   "execution_count": 34,
   "id": "d7f7b288",
   "metadata": {},
   "outputs": [
    {
     "name": "stdout",
     "output_type": "stream",
     "text": [
      "El punto es de clase: [1.]\n"
     ]
    }
   ],
   "source": [
    "# Entrenar el modelo\n",
    "modelo = KNeighborsClassifier(n_neighbors=3)\n",
    "modelo.fit(X_train, y_train)\n",
    "# Clasificar el nuevo objeto\n",
    "predicted_class = modelo.predict(new_point)\n",
    "print(\"El punto es de clase:\", predicted_class)"
   ]
  },
  {
   "cell_type": "code",
   "execution_count": 35,
   "id": "ceb938fb",
   "metadata": {},
   "outputs": [
    {
     "name": "stdout",
     "output_type": "stream",
     "text": [
      "[[21 16 17]]\n",
      "    Variable1  Variable2\n",
      "21   7.982266  47.658696\n",
      "16   2.897759  48.476780\n",
      "17   1.295575  47.225658\n"
     ]
    },
    {
     "data": {
      "image/png": "[encoded data removed]",
      "text/plain": [
       "<Figure size 500x500 with 1 Axes>"
      ]
     },
     "metadata": {},
     "output_type": "display_data"
    }
   ],
   "source": [
    "# Encontrar los índices de los objetos del conjunto de entrenamiento que son los vecinos más cercanos\n",
    "indices = modelo.kneighbors(new_point, n_neighbors = 3, return_distance=False) \n",
    "print(indices)\n",
    "print(X_train.iloc[indices[0]])\n",
    "\n",
    "\n",
    "# Iniciar visualización \n",
    "plt.figure(figsize=(5, 5))\n",
    "\n",
    "# Resaltar los vecinos más cercanos\n",
    "plt.scatter(X_train.loc[indices[0], 'Variable1'], \n",
    "            X_train.loc[indices[0], 'Variable2'],  \n",
    "            marker='o', s=150, label='Nearest Neighbors', \n",
    "            edgecolor = 'red', c = 'white')\n",
    "# Visualizar el conjunto de datos\n",
    "plt.scatter(df_train['Variable1'], \n",
    "            df_train['Variable2'], \n",
    "            c=df_train['Clase'], \n",
    "            label = 'datos05_train')\n",
    "# Visualizar el nuevo punto\n",
    "plt.scatter(new_point['Variable1'], \n",
    "            new_point['Variable2'], \n",
    "            c=predicted_class,  marker='X', \n",
    "            s=200, label='Nuevo', vmin=0, vmax=1)\n",
    "\n",
    "\n",
    "plt.show()"
   ]
  },
  {
   "cell_type": "code",
   "execution_count": 36,
   "id": "ec9ec806",
   "metadata": {},
   "outputs": [
    {
     "data": {
      "image/png": "[encoded data removed]",
      "text/plain": [
       "<Figure size 500x500 with 1 Axes>"
      ]
     },
     "metadata": {},
     "output_type": "display_data"
    }
   ],
   "source": [
    "plt.figure(figsize=(5, 5))\n",
    "\n",
    "# Resaltar los vecinos más cercanos\n",
    "plt.scatter(X_train.loc[indices[0], 'Variable1'], \n",
    "            X_train.loc[indices[0], 'Variable2'],  \n",
    "            marker='o', s=150, label='Nearest Neighbors', \n",
    "            edgecolor = 'red', c = 'white')\n",
    "# Visualizar el conjunto de datos\n",
    "plt.scatter(X_train['Variable1'], \n",
    "            X_train['Variable2'], \n",
    "            c=y_train, label = 'datos05_train')\n",
    "# Visualizar el nuevo punto\n",
    "plt.scatter(new_point['Variable1'], \n",
    "            new_point['Variable2'], c=predicted_class,  \n",
    "            marker='X', s=200, label='Nuevo', vmin=0, vmax=1)\n",
    "# Ver el área de los objetos a distancia 5\n",
    "circle = plt.Circle(new_point.to_numpy().ravel(), 3, \n",
    "                    fill=False, linestyle='dotted', edgecolor='red')\n",
    "plt.gca().add_patch(circle) \n",
    "\n",
    "plt.show()"
   ]
  },
  {
   "cell_type": "code",
   "execution_count": 37,
   "id": "b33da93b",
   "metadata": {},
   "outputs": [
    {
     "data": {
      "image/png": "[encoded data removed]",
      "text/plain": [
       "<Figure size 100x1000 with 1 Axes>"
      ]
     },
     "metadata": {},
     "output_type": "display_data"
    }
   ],
   "source": [
    "plt.figure(figsize=(1, 10))\n",
    "plt.scatter(X_train['Variable1'], \n",
    "            X_train['Variable2'], \n",
    "            c=y_train,  marker='o')\n",
    "circle = plt.Circle(new_point.to_numpy().ravel(), 6, fill=False, linestyle='dotted', edgecolor='red')\n",
    "plt.gca().add_patch(circle) \n",
    "plt.gca().set_aspect('equal', adjustable='box')\n",
    "plt.show()"
   ]
  },
  {
   "cell_type": "code",
   "execution_count": 38,
   "id": "6bd5fb38",
   "metadata": {},
   "outputs": [],
   "source": [
    "from sklearn.preprocessing import StandardScaler\n",
    "\n",
    "scaler = StandardScaler()\n",
    "X_train_scaled = scaler.fit_transform(X_train)"
   ]
  },
  {
   "cell_type": "code",
   "execution_count": 39,
   "id": "0c43700d",
   "metadata": {},
   "outputs": [
    {
     "data": {
      "image/png": "[encoded data removed]",
      "text/plain": [
       "<Figure size 500x500 with 1 Axes>"
      ]
     },
     "metadata": {},
     "output_type": "display_data"
    }
   ],
   "source": [
    "# Variables estandarizadas\n",
    "plt.figure(figsize=(5, 5))\n",
    "plt.scatter(X_train_scaled[:,0], X_train_scaled[:,1], c=y_train, marker='o')\n",
    "plt.axis('equal')\n",
    "plt.grid(True)\n",
    "plt.show()"
   ]
  },
  {
   "cell_type": "code",
   "execution_count": 40,
   "id": "2082bede",
   "metadata": {},
   "outputs": [
    {
     "data": {
      "image/png": "[encoded data removed]",
      "text/plain": [
       "<Figure size 500x500 with 1 Axes>"
      ]
     },
     "metadata": {},
     "output_type": "display_data"
    },
    {
     "name": "stdout",
     "output_type": "stream",
     "text": [
      "   Variable1  Variable2\n",
      "0          7         50\n",
      "   Variable1  Variable2\n",
      "0          7         50\n"
     ]
    }
   ],
   "source": [
    "plt.figure(figsize=(5, 5))\n",
    "\n",
    "# Resaltar los vecinos más cercanos\n",
    "\n",
    "# Visualizar el conjunto de datos\n",
    "plt.scatter(X_train_scaled[:,0], X_train_scaled[:,0], \n",
    "            c=y_train, label = 'datos05_train')\n",
    "# Visualizar el nuevo punto\n",
    "plt.scatter(new_point['Variable1'], new_point['Variable2'], c=predicted_class,  marker='X', s=200, label='Nuevo', vmin=0, vmax=1)\n",
    "\n",
    "plt.grid(True)\n",
    "plt.show()\n",
    "print(new_point)"
   ]
  },
  {
   "cell_type": "code",
   "execution_count": 41,
   "id": "5428b3fe",
   "metadata": {},
   "outputs": [],
   "source": [
    "X_test = new_point\n",
    "X_test_scaled = scaler.transform(X_test)"
   ]
  },
  {
   "cell_type": "code",
   "execution_count": 42,
   "id": "45d15a13",
   "metadata": {},
   "outputs": [],
   "source": [
    "plt.figure(figsize=(5, 5))\n",
    "plt.scatter(X_train_scaled[:, 0], X_train_scaled[:, 1], c=y_train, marker='o')\n",
    "plt.scatter(X_test_scaled[:, 0], X_test_scaled[:, 1], c='red', marker='X', s=200) \n",
    "plt.axis('equal')\n",
    "plt.grid(True)"
   ]
  },
  {
   "cell_type": "code",
   "execution_count": 43,
   "id": "12ce86c6",
   "metadata": {},
   "outputs": [],
   "source": [
    "plt.figure(figsize=(5, 5))\n",
    "plt.scatter(X_train_scaled[:, 0], X_train_scaled[:, 1], c=y_train, marker='o')\n",
    "plt.scatter(X_test_scaled[:, 0], X_test_scaled[:, 1], c='red', marker='X', s=200, label='New Point (6, 60)') \n",
    "plt.axis('equal')\n",
    "plt.grid(True)\n",
    "\n",
    "circle = plt.Circle(X_test_scaled[0], 0.9, fill=False, linestyle='dotted', edgecolor='red')\n",
    "plt.gca().add_patch(circle) "
   ]
  },
  {
   "cell_type": "code",
   "execution_count": 44,
   "id": "452b7a08",
   "metadata": {},
   "outputs": [],
   "source": [
    "modelo, y_pred = entrenar_y_obtener_accuracy(X_train, y_train, X_test, np.array([0]))\n",
    "y_pred"
   ]
  },
  {
   "cell_type": "code",
   "execution_count": 45,
   "id": "dc7d011c",
   "metadata": {},
   "outputs": [],
   "source": [
    "modelo, y_pred = entrenar_y_obtener_accuracy(X_train_scaled, y_train, X_test_scaled, np.array([0]))\n",
    "y_pred"
   ]
  },
  {
   "cell_type": "code",
   "execution_count": 46,
   "id": "66956a59",
   "metadata": {},
   "outputs": [],
   "source": [
    "# EJERCICIO: Carga los datos de datos05_test.csv y úsalos para evaluar el modelo. Compara cómo se comportaría \n",
    "# el modelo sin escalar con la versión buena del modelo escalado.\n",
    "\n",
    "# Cargar los datos de entrenamiento y \n",
    "# Dividimos en variables (X) y clase (y)\n",
    "df_test = pd.read_csv('datos05_test.csv')\n",
    "df_train = pd.read_csv('datos05_train.csv')\n",
    "\n",
    "# Dividimos en variables (X) y clase (y)\n",
    "X_test = df_test[['Variable1', 'Variable2']]\n",
    "y_test = df_test['Clase']\n",
    "\n",
    "X_train = df_train[['Variable1', 'Variable2']]\n",
    "y_train = df_train['Clase']\n",
    "\n",
    "# Entrenar el modelo\n",
    "modelo = KNeighborsClassifier(n_neighbors=3)\n",
    "modelo.fit(X_train, y_train)\n",
    "\n",
    "#Clasificamos el conjunto de test\n",
    "predicted_class = modelo.predict(X_test)\n",
    "print(\"El puntos de test son de clase:\", predicted_class)\n",
    "\n",
    "#Estandarizamos las variables\n",
    "from sklearn.preprocessing import StandardScaler\n",
    "\n",
    "scaler = StandardScaler()\n",
    "X_train_scaled = scaler.fit_transform(X_train)\n",
    "X_test_scaled = scaler.transform(X_test)\n",
    "\n",
    "##Las representamos\n",
    "plt.figure(figsize=(5, 5))\n",
    "plt.scatter(X_train_scaled[:,0], X_train_scaled[:,1], c=y_train, marker='o')     # añadir los datos de entrenamiento (o)\n",
    "plt.scatter(X_test_scaled[:,0], X_test_scaled[:,1], c='red', marker='X', s=100) # añadir los datos de prueba (x)\n",
    "\n",
    "for i in range(len(X_test_scaled)):\n",
    "    circle = plt.Circle((X_test_scaled[i,0], X_test_scaled[i,1]), 0.5, fill=False, linestyle='dotted', edgecolor='red')\n",
    "    plt.gca().add_patch(circle)\n",
    "\n",
    "plt.axis('equal')\n",
    "plt.grid(True)\n",
    "plt.show()\n",
    "\n",
    "\n",
    "print('############################################')\n",
    "print('#          Sin escalado de datos           #')\n",
    "print('############################################')\n",
    "# Entrenar el modelo sin escalar y obtener la accuracy\n",
    "modelo1, y_pred1 = entrenar_y_obtener_accuracy(X_train, y_train, X_test, y_test)\n",
    "print(y_pred1)\n",
    "\n",
    "print('############################################')\n",
    "print('#           Escalando los datos            #')\n",
    "print('############################################')\n",
    "# Entrenamos el modelo escalado y obtenemos la accuracy\n",
    "modelo2, y_pred2 = entrenar_y_obtener_accuracy(X_train_scaled, y_train, X_test_scaled, y_test)\n",
    "print(y_pred2)"
   ]
  },
  {
   "cell_type": "code",
   "execution_count": null,
   "id": "12176159",
   "metadata": {},
   "outputs": [],
   "source": [
    "df_train = pd.read_csv('datos06_train.csv')\n",
    "df_train"
   ]
  },
  {
   "cell_type": "code",
   "execution_count": 47,
   "id": "734f7bff",
   "metadata": {},
   "outputs": [],
   "source": [
    "df_train.info()"
   ]
  },
  {
   "cell_type": "code",
   "execution_count": 48,
   "id": "06fb53d2",
   "metadata": {},
   "outputs": [],
   "source": [
    "X_train = df_train.drop('Etiqueta', axis=1)\n",
    "y_train = df_train['Etiqueta']"
   ]
  },
  {
   "cell_type": "code",
   "execution_count": null,
   "id": "d33416e8",
   "metadata": {},
   "outputs": [],
   "source": [
    "modelo = KNeighborsClassifier(n_neighbors=3)\n",
    "modelo.fit(X_train, y_train)"
   ]
  },
  {
   "cell_type": "code",
   "execution_count": null,
   "id": "6511dd07",
   "metadata": {},
   "outputs": [],
   "source": [
    "# Variables categóricas\n",
    "categorical_features = X_train.select_dtypes(include=['object']).columns.tolist()\n",
    "# Variables numéricas\n",
    "numeric_features = X_train.select_dtypes(include=['number']).columns.tolist()\n",
    "\n",
    "print(\"Las variables categóricas son:\", categorical_features)\n",
    "print(\"Las variables numéricas son:\", numeric_features)"
   ]
  },
  {
   "cell_type": "code",
   "execution_count": null,
   "id": "9cb35a05",
   "metadata": {},
   "outputs": [],
   "source": [
    "from sklearn.compose import ColumnTransformer\n",
    "from sklearn.preprocessing import OneHotEncoder\n",
    "preprocessor = ColumnTransformer(\n",
    "    transformers=[\n",
    "        ('num', StandardScaler(), numeric_features),\n",
    "        ('cat', OneHotEncoder(), categorical_features)\n",
    "    ]\n",
    ")"
   ]
  },
  {
   "cell_type": "code",
   "execution_count": null,
   "id": "910eb1e8",
   "metadata": {},
   "outputs": [],
   "source": [
    "# Aplicar las transformaciones a las variables de entrada\n",
    "X_train_processed = preprocessor.fit_transform(X_train)\n",
    "X_train_processed"
   ]
  },
  {
   "cell_type": "code",
   "execution_count": null,
   "id": "cb14b7cc",
   "metadata": {},
   "outputs": [],
   "source": [
    "df_test = pd.read_csv('datos06_test.csv')\n",
    "X_test = df_test.drop('Etiqueta', axis=1)\n",
    "y_test = df_test['Etiqueta']\n",
    "X_test"
   ]
  },
  {
   "cell_type": "code",
   "execution_count": null,
   "id": "a068a4a2",
   "metadata": {},
   "outputs": [],
   "source": [
    "# Aplicar las transformaciones a las variables de entrada\n",
    "X_test_processed = preprocessor.transform(X_test)\n",
    "X_test_processed"
   ]
  },
  {
   "cell_type": "code",
   "execution_count": null,
   "id": "41a0c177",
   "metadata": {},
   "outputs": [],
   "source": [
    "modelo, y_pred = entrenar_y_obtener_accuracy(X_train_processed, y_train, X_test_processed, y_test)\n",
    "y_pred"
   ]
  },
  {
   "cell_type": "code",
   "execution_count": 49,
   "id": "3b46a03e",
   "metadata": {},
   "outputs": [],
   "source": [
    "from sklearn.impute import SimpleImputer\n",
    "\n",
    "imp = SimpleImputer(\n",
    "    missing_values=np.nan, # default\n",
    "    strategy='mean')\n",
    "\n",
    "print(\n",
    "imp.fit_transform([   [1,         2], \n",
    "            [np.nan,    3], \n",
    "            [7,         6]\n",
    "        ]))\n",
    "\n",
    "# Si queremos aplicar la misma imputación sobre otro conjunto de datos\n",
    "print(\n",
    "imp.transform([   [np.nan,        2], \n",
    "        [6,        np.nan], \n",
    "        [7,             6]\n",
    "    ]))"
   ]
  },
  {
   "cell_type": "code",
   "execution_count": 50,
   "id": "889e3cc4",
   "metadata": {},
   "outputs": [],
   "source": [
    "import pandas as pd\n",
    "from sklearn.impute import SimpleImputer\n",
    "\n",
    "df = pd.DataFrame([ [\"a\",        \"x\"],\n",
    "                    [np.nan,     \"y\"],\n",
    "                    [\"a\",     np.nan],\n",
    "                    [\"b\",        \"y\"]], \n",
    "                    dtype=\"category\")\n",
    "\n",
    "imp = SimpleImputer(strategy=\"most_frequent\")\n",
    "\n",
    "print(imp.fit_transform(df))"
   ]
  },
  {
   "cell_type": "code",
   "execution_count": 51,
   "id": "ff572c1c",
   "metadata": {},
   "outputs": [],
   "source": [
    "# EJERCICIO: Realiza la imputación de datos para el conjunto almacenado en datos07_train.csv cuyos valores \n",
    "# faltantes están identificados como -1.\n",
    "df = pd.read_csv('datos07_train.csv')\n",
    "\n",
    "imp = SimpleImputer(\n",
    "    missing_values=-1, # default\n",
    "    strategy='mean')\n",
    "\n",
    "print( imp.fit_transform(df))"
   ]
  },
  {
   "cell_type": "code",
   "execution_count": 52,
   "id": "6f01d672",
   "metadata": {},
   "outputs": [],
   "source": [
    "# Cargar el conjunto de datos\n",
    "df = pd.read_csv('datos08_train.csv')\n",
    "df.info()"
   ]
  },
  {
   "cell_type": "code",
   "execution_count": 53,
   "id": "29a800ee",
   "metadata": {},
   "outputs": [],
   "source": [
    "# Observar el conmportamiento de las variables numéricas\n",
    "df.describe()"
   ]
  },
  {
   "cell_type": "code",
   "execution_count": 54,
   "id": "72a10b84",
   "metadata": {},
   "outputs": [],
   "source": [
    "# Separar las variables (X) de las etiquetas (y)\n",
    "X = df.drop('Clase', axis = 1)\n",
    "y = df['Clase']"
   ]
  },
  {
   "cell_type": "code",
   "execution_count": 55,
   "id": "fc078aa6",
   "metadata": {},
   "outputs": [],
   "source": [
    "# Escalar\n",
    "scaler = StandardScaler()\n",
    "X_scaled = scaler.fit_transform(X)\n",
    "\n",
    "# Visualizar los datos\n",
    "plt.figure(figsize=(5, 5))\n",
    "\n",
    "plt.scatter(X_scaled[:, 0], \n",
    "            X_scaled[:, 1], \n",
    "            c=y)\n",
    "plt.title('datos08', family='monospace')\n",
    "plt.gca().set_aspect('equal', adjustable='box')\n",
    "\n",
    "plt.show() "
   ]
  },
  {
   "cell_type": "code",
   "execution_count": 56,
   "id": "e5ef9ef1",
   "metadata": {},
   "outputs": [],
   "source": [
    "modelo = KNeighborsClassifier(n_neighbors=3)\n",
    "modelo.fit(X_scaled, y)\n",
    "y_pred = modelo.predict(X_scaled)\n",
    "accuracy = accuracy_score(y, y_pred)\n",
    "conf_matrix = confusion_matrix(y, y_pred)\n",
    "print('Confusion Matrix:')\n",
    "print(conf_matrix)\n",
    "print(f'Accuracy: {accuracy:.2f}')"
   ]
  },
  {
   "cell_type": "code",
   "execution_count": 57,
   "id": "ebcc2ffc",
   "metadata": {},
   "outputs": [],
   "source": [
    "modelo = KNeighborsClassifier(n_neighbors=1)\n",
    "modelo.fit(X_scaled, y)\n",
    "y_pred = modelo.predict(X_scaled)\n",
    "accuracy = accuracy_score(y, y_pred)\n",
    "conf_matrix = confusion_matrix(y, y_pred)\n",
    "print('Confusion Matrix:')\n",
    "print(conf_matrix)\n",
    "print(f'Accuracy: {accuracy:.2f}')"
   ]
  },
  {
   "cell_type": "code",
   "execution_count": 58,
   "id": "10a03e91",
   "metadata": {},
   "outputs": [],
   "source": [
    "plt.figure(figsize=(5, 5))\n",
    "\n",
    "# Los datos del conjunto de entrenamiento\n",
    "plt.scatter(X_scaled[:, 0], \n",
    "            X_scaled[:, 1], \n",
    "            c=y,\n",
    "            label = 'Train')\n",
    "\n",
    "# Los datos que queremos clasificar\n",
    "plt.scatter(X_scaled[:, 0], \n",
    "            X_scaled[:, 1], \n",
    "            c='red', \n",
    "            marker='x', \n",
    "            label = 'Test')\n",
    "\n",
    "plt.title('Datos de entrenamiento y validación')\n",
    "plt.xlabel('Variable1') \n",
    "plt.ylabel('Variable2') \n",
    "\n",
    "# Incluir leyenda\n",
    "plt.legend(loc='upper left', bbox_to_anchor=(1, 1))\n",
    "\n",
    "plt.show()"
   ]
  },
  {
   "cell_type": "code",
   "execution_count": 59,
   "id": "d8f3a6c8",
   "metadata": {},
   "outputs": [],
   "source": [
    "from sklearn.model_selection import train_test_split\n",
    "\n",
    "X_train, X_test, y_train, y_test = train_test_split(X_scaled, y, \n",
    "                test_size=0.2, random_state=112)"
   ]
  },
  {
   "cell_type": "code",
   "execution_count": 60,
   "id": "a2d6ae1e",
   "metadata": {},
   "outputs": [],
   "source": [
    "y.value_counts()/y.size"
   ]
  },
  {
   "cell_type": "code",
   "execution_count": 61,
   "id": "f77a7e00",
   "metadata": {},
   "outputs": [],
   "source": [
    "print(y_train.value_counts()/y_train.size)\n",
    "print(y_test.value_counts()/y_test.size)"
   ]
  },
  {
   "cell_type": "code",
   "execution_count": 62,
   "id": "70f24341",
   "metadata": {},
   "outputs": [],
   "source": [
    "X_train, X_test, y_train, y_test = train_test_split(X_scaled, y, \n",
    "                test_size=0.2, random_state=112, \n",
    "                stratify = y)"
   ]
  },
  {
   "cell_type": "code",
   "execution_count": 63,
   "id": "55dc99f9",
   "metadata": {},
   "outputs": [],
   "source": [
    "print(y_train.value_counts()/y_train.size)\n",
    "print(y_test.value_counts()/y_test.size)"
   ]
  },
  {
   "cell_type": "code",
   "execution_count": 64,
   "id": "9d2185e0",
   "metadata": {},
   "outputs": [],
   "source": [
    "entrenar_y_obtener_accuracy(X_train, y_train, X_test, y_test, k=1)"
   ]
  },
  {
   "cell_type": "code",
   "execution_count": 65,
   "id": "27777f45",
   "metadata": {},
   "outputs": [],
   "source": [
    "# Dividir el conjunto de datos original\n",
    "X_train, X_test, y_train, y_test = train_test_split(X, y, \n",
    "test_size=0.2, \n",
    "random_state=1, \n",
    "stratify = y)\n",
    "\n",
    "# Aprender transformación sobre el conjunto de datos de entrenamiento\n",
    "scaler = StandardScaler()\n",
    "X_train_scaled = scaler.fit_transform(X_train)\n",
    "\n",
    "# Aplicar transformación al conjunto de datos de evaluación\n",
    "X_test_scaled = scaler.transform(X_test)\n",
    "\n",
    "print(\"Con k=1\")\n",
    "entrenar_y_obtener_accuracy(X_train_scaled, y_train, X_test_scaled, y_test, k=1)\n",
    "\n",
    "print(\"Con k=3\")\n",
    "entrenar_y_obtener_accuracy(X_train_scaled, y_train, X_test_scaled, y_test, k=3)"
   ]
  },
  {
   "cell_type": "code",
   "execution_count": 66,
   "id": "fbf733a1",
   "metadata": {},
   "outputs": [],
   "source": [
    "df = pd.read_csv('datos08_train.csv')\n",
    "print(df.info())\n",
    "print(df.describe())\n",
    "\n",
    "X = df.drop('Clase', axis = 1)\n",
    "y = df['Clase']\n",
    "\n",
    "print(\"Resultados con semilla 0:\")\n",
    "X_train, X_test, y_train, y_test = train_test_split(X_scaled, y, test_size=0.2, random_state=0, stratify = y)\n",
    "scaler = StandardScaler()\n",
    "X_train = scaler.fit_transform(X_train)\n",
    "X_test = scaler.transform(X_test)\n",
    "entrenar_y_obtener_accuracy(X_train, y_train, X_test, y_test)\n",
    "\n",
    "print(\"Resultados con semilla 1003:\")\n",
    "X_train, X_test, y_train, y_test = train_test_split(X_scaled, y, test_size=0.2, random_state=1003, stratify = y)\n",
    "scaler = StandardScaler()\n",
    "X_train = scaler.fit_transform(X_train)\n",
    "X_test = scaler.transform(X_test)\n",
    "entrenar_y_obtener_accuracy(X_train, y_train, X_test, y_test)\n",
    "\n",
    "print(\"Resultados con semilla 19:\")\n",
    "X_train, X_test, y_train, y_test = train_test_split(X_scaled, y, test_size=0.2, random_state=19, stratify = y)\n",
    "scaler = StandardScaler()\n",
    "X_train = scaler.fit_transform(X_train)\n",
    "X_test = scaler.transform(X_test)\n",
    "entrenar_y_obtener_accuracy(X_train, y_train, X_test, y_test)"
   ]
  },
  {
   "cell_type": "code",
   "execution_count": 67,
   "id": "40a4172a",
   "metadata": {},
   "outputs": [],
   "source": [
    "X_train, X_test, y_train, y_test = train_test_split(X, y, \n",
    "test_size=0.2, \n",
    "random_state=1, \n",
    "stratify = y)\n",
    "\n",
    "\n",
    "\n",
    "print(\"Con k=1\")\n",
    "entrenar_y_obtener_accuracy(X_train_scaled, y_train, X_test_scaled, y_test, k=1)\n",
    "\n",
    "print(\"Con k=3\")\n",
    "entrenar_y_obtener_accuracy(X_train_scaled, y_train, X_test_scaled, y_test, k=3)"
   ]
  },
  {
   "cell_type": "code",
   "execution_count": 68,
   "id": "cddca7d6",
   "metadata": {},
   "outputs": [],
   "source": [
    "# EJERCICIO: Compara los resultados de entrenar en conjunto de entrenamiento y test utilizando el dataset \n",
    "# almacenado en el archivo datos_09.csv.\n",
    "df = pd.read_csv('datos09.csv')\n",
    "print(df.info())\n",
    "print(df.describe())\n",
    "\n",
    "X = df.drop('Clase', axis = 1)\n",
    "y = df['Clase']\n",
    "\n",
    "scaler = StandardScaler()\n",
    "X_scaled = scaler.fit_transform(X)\n",
    "\n",
    "# Visualizar los datos\n",
    "plt.figure(figsize=(5, 5))\n",
    "\n",
    "plt.scatter(X_scaled[:, 0], \n",
    "            X_scaled[:, 1], \n",
    "            c=y)\n",
    "plt.title('datos08', family='monospace')\n",
    "plt.gca().set_aspect('equal', adjustable='box')\n",
    "\n",
    "plt.show() \n",
    "\n",
    "#Validamos el modelo con los mismos datos que hemops usado para entrenar\n",
    "modelo = KNeighborsClassifier(n_neighbors=3)\n",
    "modelo.fit(X_scaled, y)\n",
    "y_pred = modelo.predict(X_scaled)\n",
    "accuracy = accuracy_score(y, y_pred)\n",
    "conf_matrix = confusion_matrix(y, y_pred)\n",
    "print('Confusion Matrix:')\n",
    "print(conf_matrix)\n",
    "print(f'Accuracy: {accuracy:.2f}')"
   ]
  },
  {
   "cell_type": "code",
   "execution_count": null,
   "id": "f6e4f9f4",
   "metadata": {},
   "outputs": [],
   "source": [
    "#Ahora lo haremos diviendo primero\n",
    "# Cargar el conjunto de datos\n",
    "df = pd.read_csv('datos09.csv')\n",
    "df.describe()\n",
    "\n",
    "# Separar las variables (X) de las etiquetas (y)\n",
    "X = df.drop('Clase', axis = 1)\n",
    "y = df['Clase']\n",
    "\n",
    "\n",
    "#Realizamos la division en el ocnjunto de entrenamiento\n",
    "from sklearn.model_selection import train_test_split\n",
    "\n",
    "# Dividir el conjunto de datos original\n",
    "\n",
    "# el X habría que escalarlo !!\n",
    "X_train, X_test, y_train, y_test = train_test_split(X, y, \n",
    "test_size=0.2, \n",
    "random_state=1003, \n",
    "stratify = y)\n",
    "\n",
    "# Aprender transformación sobre el conjunto de datos de entrenamiento\n",
    "scaler = StandardScaler()\n",
    "X_train_scaled = scaler.fit_transform(X_train)\n",
    "\n",
    "# Aplicar transformación al conjunto de datos de evaluación\n",
    "X_test_scaled = scaler.transform(X_test)\n",
    "\n",
    "print(\"Con k=1\")\n",
    "entrenar_y_obtener_accuracy(X_train_scaled, y_train, X_test_scaled, y_test, k=1)\n",
    "\n",
    "print(\"Con k=3\")\n",
    "entrenar_y_obtener_accuracy(X_train_scaled, y_train, X_test_scaled, y_test, k=3)"
   ]
  },
  {
   "cell_type": "code",
   "execution_count": null,
   "id": "6b208f28",
   "metadata": {},
   "outputs": [],
   "source": [
    "from sklearn.model_selection import cross_val_score, StratifiedKFold\n",
    "\n",
    "df = pd.read_csv('datos08_train.csv')\n",
    "X = df.drop('Clase', axis = 1)\n",
    "y = df['Clase']\n",
    "\n",
    "scaler = StandardScaler()\n",
    "X_scaled = scaler.fit_transform(X)"
   ]
  },
  {
   "cell_type": "code",
   "execution_count": 69,
   "id": "e1882c38",
   "metadata": {},
   "outputs": [],
   "source": [
    "# Crear el modelo\n",
    "modelo = KNeighborsClassifier(n_neighbors=3)\n",
    "\n",
    "# Realizar la validación cruzada\n",
    "cv_scores = cross_val_score(modelo, \n",
    "                            X_scaled, \n",
    "                            y, \n",
    "                            cv=5, \n",
    "                            scoring='accuracy')\n",
    "\n",
    "# Ver los resultados\n",
    "print(\"Resultados de la validación cruzada:\", cv_scores)\n",
    "print(\"Valor medio de la accuracy:\", cv_scores.mean())"
   ]
  },
  {
   "cell_type": "code",
   "execution_count": 70,
   "id": "00831d0a",
   "metadata": {},
   "outputs": [],
   "source": [
    "from sklearn.model_selection import cross_val_score, StratifiedKFold\n",
    "\n",
    "# Crear el modelo\n",
    "modelo = KNeighborsClassifier(n_neighbors=1)\n",
    "\n",
    "# Especificar que vamos a utilizar validación cruzada\n",
    "cv = StratifiedKFold(n_splits=5, shuffle=True, random_state=0)\n",
    "print(cv)\n",
    "\n",
    "# Realizar la validación cruzada\n",
    "cv_scores = cross_val_score(modelo, X_scaled, y, cv=cv, scoring='accuracy')\n",
    "\n",
    "# Ver los resultados\n",
    "print(\"Resultados de la validación cruzada:\", cv_scores)\n",
    "print(\"Valor medio de la accuracy:\", cv_scores.mean())"
   ]
  },
  {
   "cell_type": "code",
   "execution_count": 71,
   "id": "42813e6c",
   "metadata": {},
   "outputs": [],
   "source": [
    "for fold, (train_idx, val_idx) in enumerate(cv.split(X, y)):\n",
    "    print(f\"\\nTrozo {fold + 1}:\")\n",
    "    print(\"Training set Indices:\", train_idx)\n",
    "    print(\"Validation set Indices:\", val_idx)\n",
    "\n",
    "    # Extraer los datos del split actual\n",
    "    X_train_fold, X_val_fold = X.iloc[train_idx], X.iloc[val_idx]\n",
    "    y_train_fold, y_val_fold = y.iloc[train_idx], y.iloc[val_idx]\n",
    "\n",
    "    # Mostrar información\n",
    "    print(\"Training set dim:\", X_train_fold.shape)\n",
    "    print(\"Validation set dim:\", X_val_fold.shape)\n",
    "    print(\"Distribución de clases en el training set:\")\n",
    "    print(y_train_fold.value_counts())\n",
    "    print(\"Distribución de clases en el validation set:\")\n",
    "    print(y_val_fold.value_counts())"
   ]
  },
  {
   "cell_type": "code",
   "execution_count": 72,
   "id": "67466c10",
   "metadata": {},
   "outputs": [],
   "source": [
    "# Realizar la validación cruzada\n",
    "cv_scores = cross_validate(modelo, X_scaled, y, cv=cv, scoring='accuracy', return_train_score=True)\n",
    "print(cv_scores['fit_time'])\n",
    "print(cv_scores['score_time'])\n",
    "print(cv_scores['test_score'])\n",
    "print(cv_scores['train_score'])"
   ]
  },
  {
   "cell_type": "code",
   "execution_count": 73,
   "id": "af915f94",
   "metadata": {},
   "outputs": [],
   "source": [
    "from sklearn.pipeline import Pipeline\n",
    "\n",
    "df = pd.read_csv('datos10.csv')\n",
    "print(df.info())\n",
    "\n",
    "# Dividir el conjunto de datos en variables (X) y etiquetas (y)\n",
    "X = df.drop(columns=['clase_objetivo'])\n",
    "y = df['clase_objetivo']\n",
    "\n",
    "# Dividir en conjuntos de entrenamiento y test\n",
    "X_train, X_test, y_train, y_test = train_test_split(X, y, test_size=0.2, random_state=42)"
   ]
  },
  {
   "cell_type": "code",
   "execution_count": 74,
   "id": "90d68fb0",
   "metadata": {},
   "outputs": [],
   "source": [
    "# Definir los trnsformers necesarios\n",
    "numeric_features = ['variable1', 'variable2']\n",
    "categorical_features = ['variable_categorica']\n",
    "\n",
    "# Crear el pipeline de preprocesamiento\n",
    "preprocessor = ColumnTransformer(\n",
    "    transformers=[ \n",
    "        ('num', Pipeline(steps=[\n",
    "            ('imputer', SimpleImputer(strategy='mean')), \n",
    "            ('scaler', StandardScaler()) \n",
    "        ]), numeric_features),\n",
    "        ('cat', Pipeline([\n",
    "            ('imputer', SimpleImputer(strategy='most_frequent')),\n",
    "            ('encoder', OneHotEncoder(handle_unknown='ignore'))\n",
    "        ]), categorical_features)\n",
    "    ])"
   ]
  },
  {
   "cell_type": "code",
   "execution_count": 75,
   "id": "7bb81586",
   "metadata": {},
   "outputs": [],
   "source": [
    "# \n",
    "numeric_transformer = Pipeline(steps=[\n",
    "    ('imputer', SimpleImputer(strategy='mean')), \n",
    "    ('scaler', StandardScaler()) \n",
    "])\n",
    "\n",
    "categorical_transformer = Pipeline(steps=[\n",
    "    ('imputer', SimpleImputer(strategy='most_frequent')),\n",
    "    ('encoder', OneHotEncoder(handle_unknown='ignore'))\n",
    "])\n",
    "\n",
    "# Create a preprocessing pipeline\n",
    "preprocessor = ColumnTransformer(\n",
    "    transformers=[\n",
    "        ('num', numeric_transformer, numeric_features),\n",
    "        ('cat', categorical_transformer, categorical_features)\n",
    "    ])"
   ]
  },
  {
   "cell_type": "code",
   "execution_count": 76,
   "id": "1743eeac",
   "metadata": {},
   "outputs": [],
   "source": [
    "# Incluir el clasificador en el pipeline\n",
    "modelo = KNeighborsClassifier(n_neighbors=3)\n",
    "\n",
    "# Crear el pipeline final\n",
    "pipeline = Pipeline(steps=[\n",
    "    ('preprocessor', preprocessor),\n",
    "    ('classifier', modelo)\n",
    "])"
   ]
  },
  {
   "cell_type": "code",
   "execution_count": 77,
   "id": "51ed297e",
   "metadata": {},
   "outputs": [],
   "source": [
    "pipeline"
   ]
  },
  {
   "cell_type": "code",
   "execution_count": 78,
   "id": "37195364",
   "metadata": {},
   "outputs": [],
   "source": [
    "# Entrenar el modelo en el conjunto de datos de entrenamiento\n",
    "pipeline.fit(X_train, y_train)\n",
    "\n",
    "# Evaluar el modelo en el conjunto de datos de test\n",
    "y_pred = pipeline.predict(X_test)"
   ]
  },
  {
   "cell_type": "code",
   "execution_count": 79,
   "id": "93edb627",
   "metadata": {},
   "outputs": [],
   "source": [
    "# Relizar la validación cruzada usando el pipeline sobre el conjunto de entrenamiento\n",
    "cv_scores = cross_val_score(pipeline, X_train, y_train, cv=5, scoring='accuracy')\n",
    "\n",
    "# Ver resultados\n",
    "print(f'Cross-Validation Scores: {cv_scores}')\n",
    "print(f'Mean Accuracy: {np.mean(cv_scores):.2f}')\n",
    "\n",
    "# Hacer las predicciones en el conjunto de datos de evaluación\n",
    "y_pred = pipeline.predict(X_test)\n",
    "\n",
    "# Evaluar los resultados en el conjunto de datos de evaluación\n",
    "accuracy_test = accuracy_score(y_test, y_pred)\n",
    "print(\"Test Accuracy:\", accuracy_test)"
   ]
  },
  {
   "cell_type": "code",
   "execution_count": 80,
   "id": "046025ca",
   "metadata": {},
   "outputs": [],
   "source": [
    "from sklearn.model_selection import cross_val_predict\n",
    "\n",
    "# Realizar la validación cruzada usando cross_val_predict para obtener predicciones en cada iteración\n",
    "y_train_pred_cv = cross_val_predict(pipeline, X_train, y_train, cv=5)\n",
    "\n",
    "# Calcular y mostrar la matriz de confusión para cada iteración de la validación cruzada\n",
    "for i in range(5):  # Suponiendo 5-fold cross-validation\n",
    "    cm = confusion_matrix(y_train, y_train_pred_cv)\n",
    "    print(f\"\\nConfusion Matrix - Fold {i + 1}:\\n\", cm)\n",
    "\n",
    "# Hacer predicciones en el conjunto de datos de evaluación\n",
    "y_pred_test = pipeline.predict(X_test)\n",
    "\n",
    "# Calcular y mostrar la matriz de confusión en el conjunto de prueba\n",
    "cm_test = confusion_matrix(y_test, y_pred_test)\n",
    "print(\"\\nConfusion Matrix - Test Set:\\n\", cm_test)"
   ]
  },
  {
   "cell_type": "code",
   "execution_count": 81,
   "id": "ac07f177",
   "metadata": {},
   "outputs": [],
   "source": [
    "# Cargar el conjunto de datos\n",
    "df = pd.read_csv('datos09.csv')\n",
    "print(df.info())\n",
    "print(df.describe())"
   ]
  },
  {
   "cell_type": "code",
   "execution_count": 82,
   "id": "db170d93",
   "metadata": {},
   "outputs": [],
   "source": [
    "X = df.drop('Clase', axis = 1)\n",
    "y = df[['Clase']]\n",
    "\n",
    "# Dividir el conjunto de datos en conjuntos de entrenamiento y test\n",
    "X_train, X_test, y_train, y_test = train_test_split(X, y, test_size=0.2, random_state=42)\n",
    "\n",
    "from sklearn.model_selection import GridSearchCV\n",
    "\n",
    "# Definir un diccionario con hiperparámetros\n",
    "param_grid = {'n_neighbors': [3, 7, 11]}\n",
    "\n",
    "# Inicializar el modelo de vecinos más cercanos\n",
    "modelo = KNeighborsClassifier()\n",
    "\n",
    "# Crear un objeto de búsqueda\n",
    "grid_search = GridSearchCV(modelo, param_grid, cv=5, scoring='accuracy')\n",
    "grid_search"
   ]
  },
  {
   "cell_type": "code",
   "execution_count": 83,
   "id": "ef5bef53",
   "metadata": {},
   "outputs": [],
   "source": [
    "# Realizar la búsqueda sobre el conjunto de entrenamiento\n",
    "grid_search.fit(X_train, y_train.values.ravel())\n",
    "\n",
    "# Mirar los resultados obtenidos\n",
    "grid_search.cv_results_"
   ]
  },
  {
   "cell_type": "code",
   "execution_count": 84,
   "id": "7b24db0c",
   "metadata": {},
   "outputs": [],
   "source": [
    "# Obtener los mejores hiperparámetros y el modelo\n",
    "best_k = grid_search.best_params_['n_neighbors']\n",
    "best_model = grid_search.best_estimator_\n",
    "\n",
    "# Pronosticar sobre el conjunto de datos de test\n",
    "y_pred = best_model.predict(X_test)\n",
    "\n",
    "# Calcular la accuracy y la matriz de confusion\n",
    "accuracy = accuracy_score(y_test, y_pred)    \n",
    "conf_matrix = confusion_matrix(y_test, y_pred)\n",
    "\n",
    "# Print the results\n",
    "print(f'Mejor valor de k: {best_k}')\n",
    "print(f'Accuracy: {accuracy:.2f}')\n",
    "print('Matriz de confusión:\\n', conf_matrix)"
   ]
  },
  {
   "cell_type": "code",
   "execution_count": 85,
   "id": "b3def52c",
   "metadata": {},
   "outputs": [],
   "source": [
    "# Definir un diccionario con hiperparámetros\n",
    "param_grid = {  'n_neighbors': [3, 7, 11],\n",
    "                'p': [1, 2]}\n",
    "\n",
    "# Inicializar el modelo de vecinos más cercanos\n",
    "modelo = KNeighborsClassifier()\n",
    "\n",
    "# Crear un objeto de búsqueda\n",
    "grid_search = GridSearchCV(modelo, param_grid, cv=5, scoring='accuracy')\n",
    "\n",
    "# Realizar la búsqueda sobre el conjunto de entrenamiento\n",
    "grid_search.fit(X_train, y_train.values.ravel())\n",
    "\n",
    "# Obtener los mejores hiperparámetros y el modelo\n",
    "best_k = grid_search.best_params_['n_neighbors']\n",
    "best_model = grid_search.best_estimator_\n",
    "\n",
    "# Pronosticar sobre el conjunto de datos de test\n",
    "y_pred = best_model.predict(X_test)\n",
    "\n",
    "# Calcular la accuracy y la matriz de confusion\n",
    "accuracy = accuracy_score(y_test, y_pred)    \n",
    "conf_matrix = confusion_matrix(y_test, y_pred)\n",
    "\n",
    "# Print the results\n",
    "print(f'Mejor valor de k: {best_k}')\n",
    "print(f'Accuracy: {accuracy:.2f}')\n",
    "print('Matriz de confusión:\\n', conf_matrix)\n",
    "\n",
    "grid_search.cv_results_"
   ]
  },
  {
   "cell_type": "code",
   "execution_count": null,
   "id": "55763dc7",
   "metadata": {},
   "outputs": [],
   "source": [
    "from sklearn.compose import ColumnTransformer\n",
    "from sklearn.impute import SimpleImputer\n",
    "from sklearn.preprocessing import StandardScaler, OneHotEncoder\n",
    "from sklearn.pipeline import Pipeline\n",
    "from sklearn.model_selection import GridSearchCV\n",
    "from sklearn.ensemble import RandomForestClassifier\n",
    "from sklearn.model_selection import train_test_split\n",
    "\n",
    "# Cargar los datos y separar variables y etiqueta\n",
    "df = pd.read_csv('datos10.csv')\n",
    "print(df.info())\n",
    "print(df.head())\n",
    "\n",
    "X = df.drop('clase_objetivo', axis = 1)\n",
    "y = df['clase_objetivo']\n",
    "\n",
    "# Dividir el conjunto de datos\n",
    "X_train, X_test, y_train, y_test = train_test_split(X, y, test_size=0.2, random_state=42, stratify=y)\n",
    "\n",
    "# Definir las variables que requieren preprocesamiento\n",
    "numeric_features = ['variable1', 'variable2']\n",
    "categorical_features = ['variable_categorica']\n",
    "\n",
    "# Crear un pipeline de preprocesamiento\n",
    "numeric_transformer = Pipeline(steps=[\n",
    "    ('imputer', SimpleImputer(strategy='mean')),\n",
    "    ('scaler', StandardScaler())\n",
    "])\n",
    "categorical_transformer = Pipeline(steps=[\n",
    "    ('imputer', SimpleImputer(strategy='most_frequent')),\n",
    "    ('encoder', OneHotEncoder(handle_unknown='ignore'))\n",
    "])\n",
    "preprocessor = ColumnTransformer(\n",
    "    transformers=[\n",
    "        ('num', numeric_transformer, numeric_features),\n",
    "        ('cat', categorical_transformer, categorical_features)\n",
    "    ])\n",
    "\n",
    "# Incluir el clasificador en el pipeline\n",
    "model = KNeighborsClassifier()\n",
    "\n",
    "pipeline = Pipeline(steps=[\n",
    "    ('preprocessor', preprocessor),\n",
    "    ('classifier', model)\n",
    "])\n",
    "\n",
    "# Definir el grid con los parámetros\n",
    "param_grid = {\n",
    "    'classifier__n_neighbors': [3, 7, 11],\n",
    "    'classifier__p': [1, 2]\n",
    "}\n",
    "\n",
    "# Crear un objeto GridSearchCV\n",
    "grid_search = GridSearchCV(pipeline, param_grid, cv=5, scoring='accuracy')\n",
    "\n",
    "# Entrenar el grid en el conjunto de datos de entrenamiento\n",
    "grid_search.fit(X_train, y_train)\n",
    "\n",
    "# Imprimir los mejores hiperparámetros\n",
    "print(\"Mejores hiperparámetros:\", grid_search.best_params_)\n",
    "\n",
    "# Acceder al mejor modelo del grid_search\n",
    "best_model = grid_search.best_estimator_\n",
    "print(best_model) # esto es un pipeline incluye el preprocesado\n",
    "\n",
    "# Utilizar el mejor modelo para hacer las precciones en el conjunto de test\n",
    "y_pred = best_model.predict(X_test)\n",
    "\n",
    "# Evaluar la accuracy en el conjunto de test\n",
    "accuracy_test = accuracy_score(y_test, y_pred)\n",
    "print(\"Test Accuracy:\", accuracy_test)"
   ]
  },
  {
   "cell_type": "code",
   "execution_count": null,
   "id": "7dcbd4c5",
   "metadata": {},
   "outputs": [],
   "source": [
    "# Load the dataset\n",
    "df_train = pd.read_csv(\"datos03_train.csv\")\n",
    "X_train = df_train.drop('Clase', axis=1)\n",
    "y_train = df_train['Clase']\n",
    "\n",
    "df_test = pd.read_csv(\"datos03_train.csv\")\n",
    "X_test = df_test.drop('Clase', axis=1)\n",
    "y_test = df_test['Clase']\n",
    "y_true = y_test\n",
    "\n",
    "# Crear un pipeline con el escalador y el modelo\n",
    "pipeline = Pipeline([\n",
    "    ('scaler', StandardScaler()),  # Scale the features\n",
    "    ('knn', KNeighborsClassifier())  # KNeighbors Classifier\n",
    "])\n",
    "\n",
    "# Entrenar el modelo\n",
    "pipeline.fit(X_train, y_train)\n",
    "\n",
    "# Make predictions on the test set\n",
    "y_pred = pipeline.predict(X_test)\n",
    "y_scores = pipeline.predict_proba(X_test)"
   ]
  },
  {
   "cell_type": "code",
   "execution_count": 86,
   "id": "6b70b77a",
   "metadata": {},
   "outputs": [],
   "source": [
    "from sklearn.metrics import confusion_matrix\n",
    "confusion = confusion_matrix(y_true, y_pred)\n",
    "confusion"
   ]
  },
  {
   "cell_type": "code",
   "execution_count": 87,
   "id": "00652e33",
   "metadata": {},
   "outputs": [],
   "source": [
    "from sklearn.metrics import accuracy_score\n",
    "accuracy = accuracy_score(y_true, y_pred)\n",
    "accuracy"
   ]
  },
  {
   "cell_type": "code",
   "execution_count": 88,
   "id": "e302281e",
   "metadata": {},
   "outputs": [],
   "source": [
    "from sklearn.datasets import make_classification\n",
    "from sklearn.model_selection import train_test_split\n",
    "from sklearn.dummy import DummyClassifier\n",
    "from sklearn.metrics import accuracy_score, confusion_matrix, classification_report\n",
    "\n",
    "# Generar un dataset muy desbalanceado\n",
    "X, y = make_classification(n_samples=100, n_features=20, n_classes=2, weights=[0.99, 0.01], random_state=42)\n",
    "\n",
    "# Split the data into training and test sets\n",
    "dX_train, dX_test, dy_train, dy_test = train_test_split(X, y, test_size=0.2, random_state=42)\n",
    "\n",
    "# Create a dummy classifier that always predicts the majority class\n",
    "dummy_classifier = DummyClassifier(strategy='most_frequent')\n",
    "dummy_classifier.fit(dX_train, dy_train)\n",
    "\n",
    "# Make predictions on the test set\n",
    "predictions = dummy_classifier.predict(dX_test)\n",
    "\n",
    "# Evaluate accuracy\n",
    "accuracy = accuracy_score(dy_test, predictions)\n",
    "print(f'Accuracy: {accuracy}')\n",
    "\n",
    "# Confusion matrix and classification report\n",
    "conf_matrix = confusion_matrix(dy_test, predictions)\n",
    "\n",
    "print('Confusion Matrix:')\n",
    "print(conf_matrix)"
   ]
  },
  {
   "cell_type": "code",
   "execution_count": 89,
   "id": "91a5c71e",
   "metadata": {},
   "outputs": [],
   "source": [
    "import seaborn as sns\n",
    "\n",
    "# Create a confusion matrix\n",
    "conf_matrix = confusion_matrix(dy_test, predictions)\n",
    "\n",
    "# Plot the confusion matrix as a heatmap\n",
    "plt.figure(figsize=(5, 5))\n",
    "sns.heatmap(conf_matrix, annot=True, fmt='d', cmap='Blues', cbar=False,\n",
    "            xticklabels=['Class 0', 'Class 1'], yticklabels=['Class 0', 'Class 1'])\n",
    "plt.title('Confusion Matrix')\n",
    "plt.xlabel('Predicted Label')\n",
    "plt.ylabel('True Label')\n",
    "plt.show()"
   ]
  },
  {
   "cell_type": "code",
   "execution_count": 90,
   "id": "ecddb68f",
   "metadata": {},
   "outputs": [],
   "source": [
    "import matplotlib.pyplot as plt\n",
    "\n",
    "# Plotting the data\n",
    "plt.figure(figsize=(5, 5))\n",
    "\n",
    "# Plotting the majority class (Class 0)\n",
    "plt.scatter(dX_test[dy_test == 0][:, 0], dX_test[dy_test == 0][:, 1], label='Class 0', c='blue', marker='o', s=50)\n",
    "\n",
    "# Plotting the minority class (Class 1)\n",
    "plt.scatter(dX_test[dy_test == 1][:, 0], dX_test[dy_test == 1][:, 1], label='Class 1', c='red', marker='x', s=50)\n",
    "\n",
    "plt.title('Test Data Distribution')\n",
    "plt.xlabel('Variable1')\n",
    "plt.ylabel('Variable2')\n",
    "plt.legend()\n",
    "plt.show()"
   ]
  },
  {
   "cell_type": "code",
   "execution_count": 91,
   "id": "319464a6",
   "metadata": {},
   "outputs": [],
   "source": [
    "# Plotting the data\n",
    "plt.figure(figsize=(5, 5))\n",
    "\n",
    "# Plotting the majority class (Class 0)\n",
    "plt.scatter(dX_test[dy_test == 0][:, 0], dX_test[dy_test == 0][:, 1], label='Class 0', c='blue', marker='o', s=50)\n",
    "\n",
    "# Plotting the minority class (Class 1)\n",
    "plt.scatter(dX_test[dy_test == 1][:, 0], dX_test[dy_test == 1][:, 1], label='Class 1', c='red', marker='x', s=50)\n",
    "\n",
    "# Adding a horizontal dashed line at y = -0.5\n",
    "plt.axhline(y=-0.5, color='gray', linestyle='--', linewidth=2, label='y = -0.5')\n",
    "\n",
    "plt.title('Test Data Distribution with Horizontal Line')\n",
    "plt.xlabel('Variable1')\n",
    "plt.ylabel('Variable2')\n",
    "plt.legend()\n",
    "plt.show()"
   ]
  },
  {
   "cell_type": "code",
   "execution_count": 92,
   "id": "124b0e6e",
   "metadata": {},
   "outputs": [],
   "source": [
    "from sklearn.metrics import precision_score\n",
    "precision = precision_score(y_true, y_pred, pos_label='c1')\n",
    "precision"
   ]
  },
  {
   "cell_type": "code",
   "execution_count": 93,
   "id": "b53fead1",
   "metadata": {},
   "outputs": [],
   "source": [
    "from sklearn.metrics import recall_score\n",
    "recall = recall_score(y_true, y_pred, pos_label='c1')\n",
    "recall"
   ]
  },
  {
   "cell_type": "code",
   "execution_count": 94,
   "id": "771a5f49",
   "metadata": {},
   "outputs": [],
   "source": [
    "from sklearn.metrics import f1_score\n",
    "f1 = f1_score(y_true, y_pred, pos_label='c1')\n",
    "f1"
   ]
  },
  {
   "cell_type": "code",
   "execution_count": 95,
   "id": "fff0284e",
   "metadata": {},
   "outputs": [],
   "source": [
    "from sklearn.metrics import roc_curve, roc_auc_score\n",
    "fpr, tpr, thresholds = roc_curve(y_true, y_scores[:,0], pos_label='c1')  # y_scores son las puntuaciones del modelo\n",
    "auc = roc_auc_score(y_true, y_scores[:,0])"
   ]
  },
  {
   "cell_type": "code",
   "execution_count": 96,
   "id": "7c1be79b",
   "metadata": {},
   "outputs": [],
   "source": [
    "import matplotlib.pyplot as plt\n",
    "from sklearn.metrics import roc_curve, roc_auc_score\n",
    "\n",
    "# Assuming you already have fpr, tpr, thresholds from roc_curve\n",
    "# y_true and y_scores are the true labels and predicted probabilities, respectively\n",
    "\n",
    "# Plot ROC curve\n",
    "plt.figure(figsize=(8, 6))\n",
    "plt.plot(fpr, tpr, color='blue', lw=2, label=f'AUC = {roc_auc_score(y_true, y_scores[:,0]):.2f}')\n",
    "plt.plot([0, 1], [0, 1], color='gray', linestyle='--', lw=2)\n",
    "plt.title('ROC Curve')\n",
    "plt.xlabel('False Positive Rate')\n",
    "plt.ylabel('True Positive Rate')\n",
    "plt.legend(loc='lower right')\n",
    "plt.show()"
   ]
  },
  {
   "cell_type": "code",
   "execution_count": 97,
   "id": "6e1628df",
   "metadata": {},
   "outputs": [],
   "source": [
    "from sklearn.metrics import classification_report\n",
    "print(\"Classification Report:\")\n",
    "print(classification_report(y_test, y_pred))"
   ]
  },
  {
   "cell_type": "code",
   "execution_count": 98,
   "id": "f2199390",
   "metadata": {},
   "outputs": [],
   "source": [
    "from sklearn.tree import DecisionTreeClassifier\n",
    "X = [[0, 0], [1, 1]] # conjunto de datos\n",
    "Y = [0, 1] # etiquetas\n",
    "modelo = DecisionTreeClassifier() # crear modelo\n",
    "modelo.fit(X, Y) # entrenar\n",
    "modelo.predict([[2., 2.]]) # predecir clase"
   ]
  },
  {
   "cell_type": "code",
   "execution_count": 99,
   "id": "da6f28bf",
   "metadata": {},
   "outputs": [],
   "source": [
    "from sklearn.datasets import load_iris\n",
    "iris = load_iris()\n",
    "iris"
   ]
  },
  {
   "cell_type": "code",
   "execution_count": 100,
   "id": "f832c746",
   "metadata": {},
   "outputs": [],
   "source": [
    "X = iris.data\n",
    "y = iris.target"
   ]
  },
  {
   "cell_type": "code",
   "execution_count": 101,
   "id": "48b891ab",
   "metadata": {},
   "outputs": [],
   "source": [
    "# Convertir a dataframe\n",
    "iris_df = pd.DataFrame(iris.data, columns=iris.feature_names)\n",
    "\n",
    "# Añadir la clase 'species' al DataFrame\n",
    "iris_df['species'] = iris.target_names[iris.target]\n",
    "\n",
    "# Crear un pairplot\n",
    "sns.pairplot(iris_df, hue='species')\n",
    "plt.show()"
   ]
  },
  {
   "cell_type": "code",
   "execution_count": 102,
   "id": "b885e550",
   "metadata": {},
   "outputs": [],
   "source": [
    "# Dividimos el conjunto de datos\n",
    "X_train, X_test, y_train, y_test = train_test_split(X, y, random_state=0)\n",
    "\n",
    "# Entrenamos el modelo\n",
    "modelo = DecisionTreeClassifier(max_leaf_nodes=3, random_state=0)\n",
    "modelo.fit(X_train, y_train)"
   ]
  },
  {
   "cell_type": "code",
   "execution_count": 103,
   "id": "4334bc17",
   "metadata": {},
   "outputs": [],
   "source": [
    "from sklearn.tree import export_text\n",
    "r = export_text(modelo, feature_names=iris.feature_names)\n",
    "print(r)"
   ]
  },
  {
   "cell_type": "code",
   "execution_count": 104,
   "id": "99dc10b0",
   "metadata": {},
   "outputs": [],
   "source": [
    "modelo.tree_"
   ]
  },
  {
   "cell_type": "code",
   "execution_count": 105,
   "id": "8b6aaeb0",
   "metadata": {},
   "outputs": [],
   "source": [
    "print(\"Número de nodos del árbol:\", modelo.tree_.node_count)\n",
    "print(\"Prfundidad máxima del árbol:\", modelo.tree_.max_depth)"
   ]
  },
  {
   "cell_type": "code",
   "execution_count": 106,
   "id": "02292649",
   "metadata": {},
   "outputs": [],
   "source": [
    "modelo.tree_.compute_node_depths()"
   ]
  },
  {
   "cell_type": "code",
   "execution_count": 107,
   "id": "08afca0f",
   "metadata": {},
   "outputs": [],
   "source": [
    "print(\"Hijo izdo:\", modelo.tree_.children_left)\n",
    "print(\"Hijo dcho:\", modelo.tree_.children_right)"
   ]
  },
  {
   "cell_type": "code",
   "execution_count": 108,
   "id": "94ed1a46",
   "metadata": {},
   "outputs": [],
   "source": [
    "print(\"El número de objetos en cada nodo:\", modelo.tree_.n_node_samples)\n",
    "print(\"En proporción:\", modelo.tree_.weighted_n_node_samples)"
   ]
  },
  {
   "cell_type": "code",
   "execution_count": 109,
   "id": "42d47f8a",
   "metadata": {},
   "outputs": [],
   "source": [
    "print(\"Impureza:\", modelo.tree_.impurity)\n",
    "print(\"Threshold:\", modelo.tree_.threshold)"
   ]
  },
  {
   "cell_type": "code",
   "execution_count": 110,
   "id": "720cc7c1",
   "metadata": {},
   "outputs": [],
   "source": [
    "petal_width_index = iris.feature_names.index(\"petal width (cm)\")\n",
    "petal_width = X_train[:,petal_width_index]\n",
    "petal_width\n",
    "\n",
    "# Ordenar los valores de los pétalos\n",
    "sorted_petal_width = np.sort(petal_width)\n",
    "\n",
    "# Calcular los puntos medios entre los valors consecutivos y añadirlos como posibles split points\n",
    "potential_thresholds = (sorted_petal_width[:-1] + sorted_petal_width[1:]) / 2\n",
    "\n",
    "print(\"Valores de la variable:\", np.unique(sorted_petal_width))\n",
    "print(\"Valores medios\", np.unique(potential_thresholds))"
   ]
  },
  {
   "cell_type": "code",
   "execution_count": 111,
   "id": "7e69eb11",
   "metadata": {},
   "outputs": [],
   "source": [
    "modelo.tree_.value"
   ]
  },
  {
   "cell_type": "code",
   "execution_count": 112,
   "id": "57de73ba",
   "metadata": {},
   "outputs": [],
   "source": [
    "from sklearn.model_selection import train_test_split\n",
    "X_train, X_test, y_train, y_test = train_test_split(X, y, test_size=0.2, random_state=725)\n",
    "\n",
    "# Crear un modelo de árbol de decisión con scikit-learn\n",
    "arbol = DecisionTreeClassifier(criterion='entropy')\n",
    "\n",
    "# Entrenar el modelo en los datos de entrenamiento\n",
    "arbol.fit(X_train, y_train)\n",
    "\n",
    "# Realizar predicciones en el conjunto de prueba\n",
    "y_pred = arbol.predict(X_test)\n",
    "\n",
    "# Evaluación del modelo\n",
    "cm = confusion_matrix(y_test, y_pred)\n",
    "classification_report = classification_report(y_test, y_pred)\n",
    "print(\"Confusion Matrix (usando entropía):\\n\", cm)\n",
    "print(\"Resumen de métricas (usando entropía):\\n\", classification_report)"
   ]
  },
  {
   "cell_type": "code",
   "execution_count": 113,
   "id": "20e3e306",
   "metadata": {},
   "outputs": [],
   "source": [
    "import pandas as pd\n",
    "\n",
    "datos = {\n",
    "    'Outlook': ['Soleado', 'Soleado', 'Despejado',\n",
    "                'Lluvia', 'Lluvia', 'Lluvia', \n",
    "                'Despejado', 'Soleado', 'Soleado', \n",
    "                'Lluvia', 'Soleado', 'Soleado', \n",
    "                'Lluvia', 'Despejado'],\n",
    "    'Temperatura': ['Caluroso', 'Caluroso', 'Caluroso', \n",
    "                'Moderado', 'Fresco', 'Fresco', \n",
    "                'Fresco', 'Moderado', 'Fresco', \n",
    "                'Moderado', 'Moderado', 'Fresco', \n",
    "                'Moderado', 'Moderado'],\n",
    "    'Humedad': ['Alta', 'Alta', 'Alta', \n",
    "                'Alta', 'Normal', 'Normal', \n",
    "                'Normal', 'Alta', 'Normal', \n",
    "                'Normal', 'Alta', 'Normal', \n",
    "                'Alta', 'Normal'],\n",
    "    'Viento': ['Débil', 'Débil', 'Débil', \n",
    "                'Débil', 'Débil', 'Fuerte', \n",
    "                'Fuerte', 'Débil', 'Débil', \n",
    "                'Débil', 'Débil', 'Débil', \n",
    "                'Fuerte', 'Débil'],\n",
    "    'Juega': ['No', 'No', 'Sí', \n",
    "                'Sí', 'Sí', 'No', \n",
    "                'Sí', 'No', 'Sí', \n",
    "                'Sí', 'No', 'Sí', \n",
    "                'Sí', 'No']\n",
    "}\n",
    "\n",
    "# Crear DataFrame con tipos de datos categóricos\n",
    "df = pd.DataFrame(datos, dtype='category')\n",
    "\n",
    "X = df.drop('Juega', axis=1)\n",
    "y = df['Juega']"
   ]
  },
  {
   "cell_type": "code",
   "execution_count": 114,
   "id": "a13f465d",
   "metadata": {},
   "outputs": [],
   "source": [
    "y"
   ]
  },
  {
   "cell_type": "code",
   "execution_count": 115,
   "id": "186912a9",
   "metadata": {},
   "outputs": [],
   "source": [
    "modelo = DecisionTreeClassifier(max_leaf_nodes=3, random_state=0)\n",
    "modelo.fit(X, y)\n",
    "r = export_text(modelo, feature_names=df.columns[:-1])\n",
    "print(r)"
   ]
  },
  {
   "cell_type": "code",
   "execution_count": null,
   "id": "08e314db",
   "metadata": {},
   "outputs": [],
   "source": [
    "from sklearn.tree import DecisionTreeClassifier\n",
    "from sklearn.preprocessing import OneHotEncoder\n",
    "\n",
    "# One-hot encode the categorical features\n",
    "encoder = OneHotEncoder()\n",
    "X_encoded = encoder.fit_transform(X).toarray()\n",
    "X_encoded"
   ]
  },
  {
   "cell_type": "code",
   "execution_count": null,
   "id": "9600cdad",
   "metadata": {},
   "outputs": [],
   "source": [
    "# Train the Decision Tree classifier\n",
    "modelo = DecisionTreeClassifier(max_leaf_nodes=3, random_state=0)\n",
    "modelo.fit(X_encoded, y)"
   ]
  },
  {
   "cell_type": "code",
   "execution_count": null,
   "id": "4e83388f",
   "metadata": {},
   "outputs": [],
   "source": [
    "df = pd.read_csv('datos11.csv')\n",
    "\n",
    "# Dividir las variables (X) y clase (y)\n",
    "X = df.drop('Clase', axis = 1)\n",
    "y = df[['Clase']].to_numpy().ravel() \n",
    "\n",
    "# Dividir el conjunto de datos en conjuntos de entrenamiento y test\n",
    "X_train, X_test, y_train, y_test = train_test_split(X, y, test_size=0.2, random_state=2)\n",
    "\n",
    "plt.scatter(df[\"Variable1\"], df[\"Variable2\"], c=df[\"Clase\"])\n",
    "plt.title(f'datos11')\n",
    "plt.xlabel('Feature 1 (Scaled)')\n",
    "plt.ylabel('Feature 2 (Scaled)')\n",
    "plt.show()"
   ]
  },
  {
   "cell_type": "code",
   "execution_count": null,
   "id": "d8604bbe",
   "metadata": {},
   "outputs": [],
   "source": [
    "# Crear el árbol\n",
    "tree = DecisionTreeClassifier(random_state=0)\n",
    "\n",
    "# Entrenar el árbol sobre el conjunto de entrenamiento completo\n",
    "tree.fit(X_train, y_train)\n",
    "\n",
    "# Accuracy en el conjunto de entrenamiento\n",
    "y_pred_train = tree.predict(X_train)\n",
    "accuracy_train_overfit = accuracy_score(y_train, y_pred_train)\n",
    "\n",
    "# Calcular CV en el conjunto de entrenamiento\n",
    "cv_scores = cross_val_score(tree, X_train, y_train, cv=5, scoring='accuracy')\n",
    "\n",
    "# Calcular la accuracy media en cv\n",
    "accuracy_train_overfit_cv = np.mean(cv_scores)\n",
    "\n",
    "# Calcular accuracy en el conjunto de test\n",
    "y_pred_test = tree.predict(X_test)\n",
    "accuracy_test_overfit = accuracy_score(y_test, y_pred_test)"
   ]
  },
  {
   "cell_type": "code",
   "execution_count": null,
   "id": "3e310e33",
   "metadata": {},
   "outputs": [],
   "source": [
    "# Crear el grid de búsqueda\n",
    "param_grid = {\n",
    "    'max_depth': [1, 2, 3, 5, 10, 15],\n",
    "    'min_weight_fraction_leaf': [0.0, 0.1, 0.2],\n",
    "    'min_samples_split': [5, 10, 20, 40]\n",
    "}"
   ]
  },
  {
   "cell_type": "code",
   "execution_count": null,
   "id": "a2cc5f65",
   "metadata": {},
   "outputs": [],
   "source": [
    "# Crear el árbol\n",
    "tree_pruned = DecisionTreeClassifier(random_state=0)\n",
    "\n",
    "# Create a GridSearchCV object\n",
    "grid_search = GridSearchCV(tree_pruned, param_grid, cv=5, scoring='accuracy')\n",
    "\n",
    "# Entreenar sobre el conjunto de entrenamiento\n",
    "grid_search.fit(X_train, y_train)\n",
    "\n",
    "# Get the best parameters from the grid search\n",
    "best_params = grid_search.best_params_\n",
    "\n",
    "# Get the best model from the grid search\n",
    "best_model = grid_search.best_estimator_\n",
    "\n",
    "# La accuracy de los parámetros seleccionados en cross validation\n",
    "accuracy_train_pruned_cv = grid_search.best_score_\n",
    "\n",
    "# La accuracy de cada una de las scores\n",
    "best_index = grid_search.best_index_\n",
    "best_model_cv_scores = [\n",
    "    grid_search.cv_results_[f'split{i}_test_score'][best_index] for i in range(grid_search.n_splits_)\n",
    "]\n",
    "\n",
    "y_test_pred_pruned = best_model.predict(X_test)\n",
    "\n",
    "# Calculate accuracy on testing sets\n",
    "accuracy_test_pruned = accuracy_score(y_test, y_test_pred_pruned)\n",
    "\n",
    "# La accuracy sobre el propio conjunto de datos\n",
    "y_train_pred_pruned = best_model.predict(X_train)\n",
    "accuracy_train_pruned = accuracy_score(y_train, y_train_pred_pruned)"
   ]
  },
  {
   "cell_type": "code",
   "execution_count": null,
   "id": "ce60d2da",
   "metadata": {},
   "outputs": [],
   "source": [
    "print(\"\\nÁRBOL SIN PODA\")\n",
    "\n",
    "print(\"Parámetros del árbol\")\n",
    "print(tree.get_params())\n",
    "print(f'Accuracy train sin poda: {accuracy_train_overfit:.2f}')\n",
    "print(f'Accuracy validación cruzada sin poda (media = {accuracy_train_overfit_cv:.2f})')\n",
    "print(cv_scores)\n",
    "print(f'Accuracy test sin poda: {accuracy_test_overfit:.2f}')\n",
    "\n",
    "print(\"\\nÁRBOL CON PODA\")\n",
    "\n",
    "print(f\"Parámetros del árbol (elegidos {best_params})\")\n",
    "print(best_model.get_params())\n",
    "print(f'Accuracy train con poda: {accuracy_train_pruned:.2f}')\n",
    "print(f'Accuracy validación cruzada con poda (media = {accuracy_train_pruned_cv:.2f})')\n",
    "print(best_model_cv_scores)\n",
    "print(f'Accuracy test con poda: {accuracy_test_pruned:.2f}')\n",
    "\n",
    "print(\"\\nÁrboles resultantes\")\n",
    "\n",
    "# Print the overfitting decision tree\n",
    "print(\"Overfitting Decision Tree:\")\n",
    "tree_rules_overfit = export_text(tree, feature_names=list(X.columns))\n",
    "print(tree_rules_overfit)\n",
    "\n",
    "# Print the pruned decision tree\n",
    "print(\"Pruned Decision Tree:\")\n",
    "best_tree = grid_search.best_estimator_\n",
    "tree_rules_pruned = export_text(best_tree, feature_names=list(X.columns))\n",
    "print(tree_rules_pruned)"
   ]
  },
  {
   "cell_type": "code",
   "execution_count": 116,
   "id": "efcedbc7",
   "metadata": {},
   "outputs": [],
   "source": [
    "# EJERCICIO: Repite el entrenamiento usando el siguiente grid\n",
    "param_grid = {\n",
    "    'ccp_alpha': [0.0, 0.1, 0.2, 0.5, 1.0],\n",
    "    'max_depth': [2, 3, 5, 10, 15],  # Profundidad máxima del árbol\n",
    "    'min_samples_split': [5, 10, 20, 40],  # Número mínimo de muestras requeridas para dividir un nodo interno\n",
    "    'min_samples_leaf': [5, 10, 20, 50, 75],  # Número mínimo de muestras requeridas para ser una hoja\n",
    "    'criterion': ['gini', 'entropy'],  # Criterio para la división\n",
    "    'min_weight_fraction_leaf': [0.0, 0.1, 0.2],  # Fracción mínima ponderada de la suma total de pesos\n",
    "    'max_leaf_nodes': [None, 10, 20, 30]  # Crecer un árbol con un número máximo de nodos hoja\n",
    "}"
   ]
  },
  {
   "cell_type": "code",
   "execution_count": 146,
   "id": "e830ae78",
   "metadata": {},
   "outputs": [
    {
     "name": "stdout",
     "output_type": "stream",
     "text": [
      "Mejores hiperparámetros: {'classifier__n_neighbors': 11, 'classifier__p': 2}\n",
      "Pipeline(steps=[('preprocessor',\n",
      "                 ColumnTransformer(transformers=[('num',\n",
      "                                                  Pipeline(steps=[('imputer',\n",
      "                                                                   SimpleImputer()),\n",
      "                                                                  ('scaler',\n",
      "                                                                   StandardScaler())]),\n",
      "                                                  ['Total', 'HP', 'Attack',\n",
      "                                                   'Defense', 'Sp. Atk',\n",
      "                                                   'Sp. Def', 'Speed',\n",
      "                                                   'Generation']),\n",
      "                                                 ('cat',\n",
      "                                                  Pipeline(steps=[('imputer',\n",
      "                                                                   SimpleImputer(strategy='most_frequent')),\n",
      "                                                                  ('encoder',\n",
      "                                                                   OneHotEncoder(handle_unknown='ignore'))]),\n",
      "                                                  ['Type 1', 'Type 2'])])),\n",
      "                ('classifier', KNeighborsClassifier(n_neighbors=11))])\n",
      "Test Accuracy: 0.95\n",
      "SOL:  {'mean_fit_time': array([0.0119863 , 0.01154957, 0.01173849, 0.01185765, 0.01228523,\n",
      "       0.01313028]), 'std_fit_time': array([0.00052822, 0.00035262, 0.00045309, 0.00055725, 0.00223015,\n",
      "       0.00333015]), 'mean_score_time': array([0.02205343, 0.02206903, 0.02113295, 0.02184682, 0.02015853,\n",
      "       0.02403917]), 'std_score_time': array([0.00425927, 0.00264014, 0.0017979 , 0.00096266, 0.00161078,\n",
      "       0.00283442]), 'param_classifier__n_neighbors': masked_array(data=[3, 3, 7, 7, 11, 11],\n",
      "             mask=[False, False, False, False, False, False],\n",
      "       fill_value='?',\n",
      "            dtype=object), 'param_classifier__p': masked_array(data=[1, 2, 1, 2, 1, 2],\n",
      "             mask=[False, False, False, False, False, False],\n",
      "       fill_value='?',\n",
      "            dtype=object), 'params': [{'classifier__n_neighbors': 3, 'classifier__p': 1}, {'classifier__n_neighbors': 3, 'classifier__p': 2}, {'classifier__n_neighbors': 7, 'classifier__p': 1}, {'classifier__n_neighbors': 7, 'classifier__p': 2}, {'classifier__n_neighbors': 11, 'classifier__p': 1}, {'classifier__n_neighbors': 11, 'classifier__p': 2}], 'split0_test_score': array([0.9296875, 0.953125 , 0.9609375, 0.9453125, 0.9375   , 0.96875  ]), 'split1_test_score': array([0.921875 , 0.9453125, 0.9453125, 0.9375   , 0.9375   , 0.953125 ]), 'split2_test_score': array([0.9609375, 0.953125 , 0.9453125, 0.9453125, 0.9609375, 0.9453125]), 'split3_test_score': array([0.96875  , 0.96875  , 0.9609375, 0.9609375, 0.96875  , 0.9609375]), 'split4_test_score': array([0.9296875, 0.9296875, 0.9140625, 0.90625  , 0.921875 , 0.9296875]), 'mean_test_score': array([0.9421875, 0.95     , 0.9453125, 0.9390625, 0.9453125, 0.9515625]), 'std_test_score': array([0.01887976, 0.01269381, 0.01711633, 0.01808725, 0.01711633,\n",
      "       0.01344113]), 'rank_test_score': array([5, 2, 3, 6, 3, 1], dtype=int32)}\n",
      "Resultados del modelo con 7 vecinos y distancia Manhattan:\n",
      "Mejor combinación de parámetros: {'classifier__n_neighbors': 11, 'classifier__p': 2}\n",
      "Accuracy en validación cruzada: 0.9515625\n"
     ]
    }
   ],
   "source": [
    "# EJERCICIO FINAL\n",
    "# Instrucciones:\n",
    "\n",
    "# Realiza el preprocesamiento de las variables adecuado para entrenar los modelos.\n",
    "\n",
    "# Entrena al menos 10 modelos con distintos hiperparámetros, utilizando los algoritmos de vecinos más cercanos \n",
    "# y árboles de decisión.\n",
    "\n",
    "# Para cada paradigma, realiza una búsqueda de los hiperparámetros óptimos utilizando validación cruzada.\n",
    "\n",
    "# Garantiza que los resultados obtenidos son fiables, validando los modelos en datos que no han sido utilizados \n",
    "# en ninguna parte del preprocesado de datos.\n",
    "\n",
    "# Asegura que los resultados sean reproducibles.\n",
    "\n",
    "df_train = pd.read_csv('pokemon.csv')\n",
    "\n",
    "X = df_train.drop(['#', \"Name\", \"Legendary\"], axis=1)\n",
    "y = df_train['Legendary']\n",
    "\n",
    "# tendríamos que escalar la X !!\n",
    "X_train, X_test, y_train, y_test = train_test_split(X, y, test_size=0.2, random_state=42)\n",
    "\n",
    "categorical_features = ['Type 1', 'Type 2']\n",
    "numeric_features = ['Total', 'HP', 'Attack', 'Defense', 'Sp. Atk', 'Sp. Def', 'Speed', 'Generation']\n",
    "\n",
    "# Crear el pipeline de preprocesamiento\n",
    "numeric_transformer = Pipeline(steps=[\n",
    "    ('imputer', SimpleImputer(strategy='mean')),\n",
    "    ('scaler', StandardScaler())\n",
    "])\n",
    "categorical_transformer = Pipeline(steps=[\n",
    "    ('imputer', SimpleImputer(strategy='most_frequent')),\n",
    "    ('encoder', OneHotEncoder(handle_unknown='ignore'))\n",
    "])\n",
    "preprocessor = ColumnTransformer(\n",
    "    transformers=[\n",
    "        ('num', numeric_transformer, numeric_features),\n",
    "        ('cat', categorical_transformer, categorical_features)\n",
    "    ])\n",
    "\n",
    "# Inicializar el modelo de vecinos más cercanos\n",
    "model = KNeighborsClassifier()\n",
    "\n",
    "pipeline = Pipeline(steps=[\n",
    "    ('preprocessor', preprocessor),\n",
    "    ('classifier', model)\n",
    "])\n",
    "\n",
    "# Definir el grid con los parámetros\n",
    "param_grid = {\n",
    "    'classifier__n_neighbors': [3, 7, 11],\n",
    "    'classifier__p': [1, 2]\n",
    "}\n",
    "\n",
    "# Crear un objeto GridSearchCV\n",
    "grid_search = GridSearchCV(pipeline, param_grid, cv=5, scoring='accuracy')\n",
    "\n",
    "# Entrenar el grid en el conjunto de datos de entrenamiento\n",
    "grid_search.fit(X_train, y_train)\n",
    "\n",
    "# Imprimir los mejores hiperparámetros\n",
    "print(\"Mejores hiperparámetros:\", grid_search.best_params_)\n",
    "\n",
    "# Acceder al mejor modelo del grid_search\n",
    "best_model = grid_search.best_estimator_\n",
    "print(best_model) # esto es un pipeline incluye el preprocesado\n",
    "\n",
    "# Utilizar el mejor modelo para hacer las precciones en el conjunto de test\n",
    "y_pred = best_model.predict(X_test)\n",
    "\n",
    "# Evaluar la accuracy en el conjunto de test\n",
    "accuracy_test = accuracy_score(y_test, y_pred)\n",
    "print(\"Test Accuracy:\", accuracy_test)\n",
    "\n",
    "# Imprimir los mejores hiperparámetros\n",
    "print(\"SOL: \", grid_search.cv_results_)\n",
    "\n",
    "resultados_modelo = grid_search.cv_results_\n",
    "\n",
    "# Encontrar el índice del modelo con la mejor puntuación\n",
    "indice_mejor_modelo = resultados_modelo['rank_test_score'].argmin()\n",
    "\n",
    "# Imprimir los resultados del modelo con 7 vecinos y distancia Manhattan\n",
    "print(\"Resultados del modelo con 7 vecinos y distancia Manhattan:\")\n",
    "print(\"Mejor combinación de parámetros:\", resultados_modelo['params'][indice_mejor_modelo])\n",
    "print(\"Accuracy en validación cruzada:\", resultados_modelo['mean_test_score'][indice_mejor_modelo])"
   ]
  }
 ],
 "metadata": {
  "kernelspec": {
   "display_name": "Python 3 (ipykernel)",
   "language": "python",
   "name": "python3"
  },
  "language_info": {
   "codemirror_mode": {
    "name": "ipython",
    "version": 3
   },
   "file_extension": ".py",
   "mimetype": "text/x-python",
   "name": "python",
   "nbconvert_exporter": "python",
   "pygments_lexer": "ipython3",
   "version": "3.9.7"
  }
 },
 "nbformat": 4,
 "nbformat_minor": 5
}
