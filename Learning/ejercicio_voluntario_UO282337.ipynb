{
 "cells": [
  {
   "cell_type": "code",
   "execution_count": 1,
   "id": "f856b7ca",
   "metadata": {},
   "outputs": [],
   "source": [
    "# Importar bibliotecas necesarias\n",
    "from sklearn.compose import ColumnTransformer\n",
    "from sklearn.impute import SimpleImputer\n",
    "from sklearn.preprocessing import StandardScaler, OneHotEncoder\n",
    "from sklearn.pipeline import Pipeline\n",
    "from sklearn.model_selection import GridSearchCV\n",
    "from sklearn.ensemble import RandomForestClassifier\n",
    "from sklearn.model_selection import train_test_split\n",
    "from sklearn.metrics import roc_auc_score, accuracy_score\n",
    "import pandas as pd\n",
    "from sklearn.neighbors import KNeighborsClassifier\n",
    "\n",
    "# Descripción:\n",
    "\n",
    "# Este código realiza la generación de un modelo de clasificación utilizando un conjunto de datos proporcionado en el \n",
    "# archivo CSV \"datos_tarea_voluntaria.csv\". El objetivo es predecir la variable \"cell_line\" (línea celular) basándose \n",
    "# en el nivel de expresión de ciertas proteínas.\n",
    "\n",
    "# Justificación de la selección:\n",
    "\n",
    "# Este enfoque se seleccionó porque el RandomForest es un algoritmo robusto y versátil que puede manejar tanto variables \n",
    "# numéricas como categóricas. La búsqueda de hiperparámetros a través de GridSearchCV permite encontrar la combinación \n",
    "# óptima para maximizar la exactitud del modelo. La toma de una muestra aleatoria del conjunto de datos facilita el \n",
    "# desarrollo y la experimentación sin comprometer la representatividad del modelo.\n",
    "\n",
    "# Alternativas a considerar:\n",
    "\n",
    "# Durante el desarrollo del modelo, se exploraron diferentes técnicas y modelos para comparar su rendimiento con el \n",
    "# RandomForest seleccionado. Algunas de las alternativas probadas incluyen:\n",
    "# - KNN: Se probó el clasificador KNN para evaluar la eficacia de un enfoque basado en vecinos más cercanos\n",
    "# - SVM: Se evaluó para determinar si podría superar las limitaciones de linealidad.\n",
    "# - Gradient Boosting: Se exploró el modelo, conocido por su capacidad para mejorar la precisión mediante la combinación de varios modelos más simples\n",
    "\n",
    "# Nota:\n",
    "\n",
    "# Me tardó en ejecutar el fit aproximadamente 3 minutos, los resultados obtenidos son:\n",
    "# - Mejores hiperparámetros: {'classifier__max_depth': 10, 'classifier__min_samples_leaf': 1, 'classifier__min_samples_split': 5, 'classifier__n_estimators': 100}\n",
    "# - Test Accuracy: 0.9141579731743666\n",
    "\n",
    "# Cargar los datos\n",
    "df = pd.read_csv('datos_tarea_voluntaria.csv')\n",
    "\n",
    "# Ajustamos la fracción para reducir el tiempo de ejecución\n",
    "df_sample = df.sample(frac=0.1, random_state=42)\n",
    "\n",
    "# Dividir el conjunto de datos en entrenamiento y prueba\n",
    "X = df_sample.drop('cell_line', axis=1)\n",
    "y = df_sample['cell_line']"
   ]
  },
  {
   "cell_type": "code",
   "execution_count": 2,
   "id": "f4869991",
   "metadata": {},
   "outputs": [],
   "source": [
    "X_train, X_test, y_train, y_test = train_test_split(X, y, test_size=0.2, random_state=42, stratify=y)\n",
    "\n",
    "# Definir variables para preprocesamiento\n",
    "numeric_features = df.columns.tolist()[:-1]\n",
    "categorical_features = []  # Si hay columnas categóricas, agréguelas aquí"
   ]
  },
  {
   "cell_type": "code",
   "execution_count": 3,
   "id": "9db00949",
   "metadata": {},
   "outputs": [],
   "source": [
    "# Crear un pipeline de preprocesamiento\n",
    "numeric_transformer = Pipeline(steps=[\n",
    "    ('imputer', SimpleImputer(strategy='mean')),\n",
    "    ('scaler', StandardScaler())\n",
    "])\n",
    "categorical_transformer = Pipeline(steps=[\n",
    "    ('imputer', SimpleImputer(strategy='most_frequent')),\n",
    "    ('encoder', OneHotEncoder(handle_unknown='ignore'))\n",
    "])\n",
    "preprocessor = ColumnTransformer(\n",
    "    transformers=[\n",
    "        ('num', numeric_transformer, numeric_features),\n",
    "        ('cat', categorical_transformer, categorical_features)\n",
    "    ])\n",
    "\n",
    "# Incluir el clasificador en el pipeline\n",
    "model = RandomForestClassifier(random_state=42)\n",
    "\n",
    "pipeline = Pipeline(steps=[\n",
    "    ('preprocessor', preprocessor),\n",
    "    ('classifier', model)\n",
    "])\n",
    "\n",
    "param_grid = {\n",
    "    'classifier__n_estimators': [50, 100],\n",
    "    'classifier__max_depth': [5, 10],\n",
    "    'classifier__min_samples_split': [2, 5],\n",
    "    'classifier__min_samples_leaf': [1, 2]\n",
    "}"
   ]
  },
  {
   "cell_type": "code",
   "execution_count": 4,
   "id": "a3bfc9c4",
   "metadata": {
    "scrolled": false
   },
   "outputs": [
    {
     "name": "stdout",
     "output_type": "stream",
     "text": [
      "Mejores hiperparámetros: {'classifier__max_depth': 10, 'classifier__min_samples_leaf': 1, 'classifier__min_samples_split': 5, 'classifier__n_estimators': 100}\n"
     ]
    }
   ],
   "source": [
    "# Crear un objeto GridSearchCV\n",
    "grid_search = GridSearchCV(pipeline, param_grid, cv=5, scoring='accuracy')\n",
    "\n",
    "# Entrenar el grid en el conjunto de datos de entrenamiento\n",
    "grid_search.fit(X_train, y_train)\n",
    "\n",
    "# Obtener el mejor modelo y sus hiperparámetros\n",
    "best_model = grid_search.best_estimator_\n",
    "best_params = grid_search.best_params_\n",
    "\n",
    "# Imprimir los mejores hiperparámetros\n",
    "print(\"Mejores hiperparámetros:\", best_params)"
   ]
  },
  {
   "cell_type": "code",
   "execution_count": 5,
   "id": "5e10c6a7",
   "metadata": {},
   "outputs": [
    {
     "name": "stdout",
     "output_type": "stream",
     "text": [
      "Test Accuracy: 0.9141579731743666\n"
     ]
    }
   ],
   "source": [
    "# Utilizar el mejor modelo para hacer predicciones en el conjunto de prueba\n",
    "y_pred = best_model.predict(X_test)\n",
    "\n",
    "# Evaluar la accuracy en el conjunto de test\n",
    "accuracy_test = accuracy_score(y_test, y_pred)\n",
    "print(\"Test Accuracy:\", accuracy_test)"
   ]
  },
  {
   "cell_type": "code",
   "execution_count": 6,
   "id": "b5cf12fa",
   "metadata": {},
   "outputs": [
    {
     "data": {
      "text/plain": [
       "['mejor_modelo.pkl']"
      ]
     },
     "execution_count": 6,
     "metadata": {},
     "output_type": "execute_result"
    }
   ],
   "source": [
    "# Guardar el mejor modelo en formato binario\n",
    "import joblib\n",
    "joblib.dump(best_model, 'mejor_modelo.pkl')"
   ]
  },
  {
   "cell_type": "code",
   "execution_count": null,
   "id": "ec8bc9f9",
   "metadata": {},
   "outputs": [],
   "source": []
  }
 ],
 "metadata": {
  "kernelspec": {
   "display_name": "Python 3 (ipykernel)",
   "language": "python",
   "name": "python3"
  },
  "language_info": {
   "codemirror_mode": {
    "name": "ipython",
    "version": 3
   },
   "file_extension": ".py",
   "mimetype": "text/x-python",
   "name": "python",
   "nbconvert_exporter": "python",
   "pygments_lexer": "ipython3",
   "version": "3.9.7"
  }
 },
 "nbformat": 4,
 "nbformat_minor": 5
}
